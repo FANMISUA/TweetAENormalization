{
  "nbformat": 4,
  "nbformat_minor": 0,
  "metadata": {
    "colab": {
      "provenance": []
    },
    "kernelspec": {
      "name": "python3",
      "display_name": "Python 3"
    },
    "language_info": {
      "name": "python"
    }
  },
  "cells": [
    {
      "cell_type": "code",
      "source": [
        "#evalute the Accuracy, Precision, Recall, F1 for Sequence NER\n",
        "!pip install -U scikit-learn\n"
      ],
      "metadata": {
        "colab": {
          "base_uri": "https://localhost:8080/"
        },
        "id": "tEJ8o9ar9GmA",
        "outputId": "5dddf8ad-29b4-4c0f-a3d5-0b612594f755"
      },
      "execution_count": 56,
      "outputs": [
        {
          "output_type": "stream",
          "name": "stdout",
          "text": [
            "Requirement already satisfied: scikit-learn in /usr/local/lib/python3.10/dist-packages (1.3.0)\n",
            "Requirement already satisfied: numpy>=1.17.3 in /usr/local/lib/python3.10/dist-packages (from scikit-learn) (1.23.5)\n",
            "Requirement already satisfied: scipy>=1.5.0 in /usr/local/lib/python3.10/dist-packages (from scikit-learn) (1.10.1)\n",
            "Requirement already satisfied: joblib>=1.1.1 in /usr/local/lib/python3.10/dist-packages (from scikit-learn) (1.3.2)\n",
            "Requirement already satisfied: threadpoolctl>=2.0.0 in /usr/local/lib/python3.10/dist-packages (from scikit-learn) (3.2.0)\n"
          ]
        }
      ]
    },
    {
      "cell_type": "code",
      "source": [
        "\n",
        "from sklearn.metrics import classification_report\n",
        "\n",
        "\n",
        "# Example predicted labels and true labels\n",
        "# true_NER = ['O', 'B-AE', 'I-AE', 'I-AE', 'I-AE', 'O','O','O','O','O']\n",
        "# predicted_NER = ['O', 'B-AE', 'I-AE', 'I-AE', 'O', 'O','O','O','O','O']\n",
        "\n",
        "true_label = [0,1,2,2,2,0,0,0,0,0]\n",
        "predicted_label = [0,1,2,2,0,0,0,0,0,0]\n",
        "\n",
        "NER_tags = ['O', 'B-AE', 'I-AE']\n",
        "\n",
        "true_NER = [NER_class[i] for i in true_label]\n",
        "predict_NER = [NER_class[i] for i in predicted_label]\n",
        "\n",
        "print(\"true NER:\",true_NER)\n",
        "print(\"predict NER:\",predict_NER)\n",
        "\n",
        "\n"
      ],
      "metadata": {
        "colab": {
          "base_uri": "https://localhost:8080/"
        },
        "id": "oX7EM-OL9crA",
        "outputId": "00cb86ab-6f03-4b49-be7c-2a467bbfbc00"
      },
      "execution_count": 65,
      "outputs": [
        {
          "output_type": "stream",
          "name": "stdout",
          "text": [
            "true NER: ['O', 'B-AE', 'I-AE', 'I-AE', 'I-AE', 'O', 'O', 'O', 'O', 'O']\n",
            "predict NER: ['O', 'B-AE', 'I-AE', 'I-AE', 'O', 'O', 'O', 'O', 'O', 'O']\n"
          ]
        }
      ]
    },
    {
      "cell_type": "code",
      "source": [
        "report_compute = classification_report(true_NER, predict_NER, target_names=NER_class, digits=4, output_dict=True)\n",
        "\n",
        "evaluate_result = report_compute['weighted avg']\n",
        "\n",
        "print(evaluate_result)"
      ],
      "metadata": {
        "colab": {
          "base_uri": "https://localhost:8080/"
        },
        "id": "pIivbrqUMR5M",
        "outputId": "16764dff-5f5d-4721-8cda-f4225352a1e7"
      },
      "execution_count": 66,
      "outputs": [
        {
          "output_type": "stream",
          "name": "stdout",
          "text": [
            "{'precision': 0.9142857142857143, 'recall': 0.9, 'f1-score': 0.8938461538461538, 'support': 10}\n"
          ]
        }
      ]
    },
    {
      "cell_type": "code",
      "source": [
        "print(classification_report(true_NER, predict_NER))"
      ],
      "metadata": {
        "colab": {
          "base_uri": "https://localhost:8080/"
        },
        "id": "GwEcRN37GXdt",
        "outputId": "1cb6453b-d9c3-47da-9248-9ef8a6aba08f"
      },
      "execution_count": 67,
      "outputs": [
        {
          "output_type": "stream",
          "name": "stdout",
          "text": [
            "              precision    recall  f1-score   support\n",
            "\n",
            "        B-AE       1.00      1.00      1.00         1\n",
            "        I-AE       1.00      0.67      0.80         3\n",
            "           O       0.86      1.00      0.92         6\n",
            "\n",
            "    accuracy                           0.90        10\n",
            "   macro avg       0.95      0.89      0.91        10\n",
            "weighted avg       0.91      0.90      0.89        10\n",
            "\n"
          ]
        }
      ]
    }
  ]
}