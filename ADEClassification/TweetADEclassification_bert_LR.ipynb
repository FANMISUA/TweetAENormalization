{
  "cells": [
    {
      "cell_type": "code",
      "execution_count": 152,
      "metadata": {
        "colab": {
          "base_uri": "https://localhost:8080/"
        },
        "id": "cVfc78DC9gL0",
        "outputId": "94672bf9-e7a2-44ab-f569-f9c0c997f69b"
      },
      "outputs": [
        {
          "output_type": "stream",
          "name": "stdout",
          "text": [
            "Requirement already satisfied: transformers in /usr/local/lib/python3.10/dist-packages (4.31.0)\n",
            "Requirement already satisfied: filelock in /usr/local/lib/python3.10/dist-packages (from transformers) (3.12.2)\n",
            "Requirement already satisfied: huggingface-hub<1.0,>=0.14.1 in /usr/local/lib/python3.10/dist-packages (from transformers) (0.16.4)\n",
            "Requirement already satisfied: numpy>=1.17 in /usr/local/lib/python3.10/dist-packages (from transformers) (1.23.5)\n",
            "Requirement already satisfied: packaging>=20.0 in /usr/local/lib/python3.10/dist-packages (from transformers) (23.1)\n",
            "Requirement already satisfied: pyyaml>=5.1 in /usr/local/lib/python3.10/dist-packages (from transformers) (6.0.1)\n",
            "Requirement already satisfied: regex!=2019.12.17 in /usr/local/lib/python3.10/dist-packages (from transformers) (2022.10.31)\n",
            "Requirement already satisfied: requests in /usr/local/lib/python3.10/dist-packages (from transformers) (2.31.0)\n",
            "Requirement already satisfied: tokenizers!=0.11.3,<0.14,>=0.11.1 in /usr/local/lib/python3.10/dist-packages (from transformers) (0.13.3)\n",
            "Requirement already satisfied: safetensors>=0.3.1 in /usr/local/lib/python3.10/dist-packages (from transformers) (0.3.2)\n",
            "Requirement already satisfied: tqdm>=4.27 in /usr/local/lib/python3.10/dist-packages (from transformers) (4.65.0)\n",
            "Requirement already satisfied: fsspec in /usr/local/lib/python3.10/dist-packages (from huggingface-hub<1.0,>=0.14.1->transformers) (2023.6.0)\n",
            "Requirement already satisfied: typing-extensions>=3.7.4.3 in /usr/local/lib/python3.10/dist-packages (from huggingface-hub<1.0,>=0.14.1->transformers) (4.7.1)\n",
            "Requirement already satisfied: charset-normalizer<4,>=2 in /usr/local/lib/python3.10/dist-packages (from requests->transformers) (3.2.0)\n",
            "Requirement already satisfied: idna<4,>=2.5 in /usr/local/lib/python3.10/dist-packages (from requests->transformers) (3.4)\n",
            "Requirement already satisfied: urllib3<3,>=1.21.1 in /usr/local/lib/python3.10/dist-packages (from requests->transformers) (1.26.16)\n",
            "Requirement already satisfied: certifi>=2017.4.17 in /usr/local/lib/python3.10/dist-packages (from requests->transformers) (2023.7.22)\n"
          ]
        }
      ],
      "source": [
        "#install required packages\n",
        "!pip install transformers"
      ]
    },
    {
      "cell_type": "code",
      "execution_count": null,
      "metadata": {
        "colab": {
          "base_uri": "https://localhost:8080/"
        },
        "id": "Pf-GwH7T-0Qf",
        "outputId": "01e669c8-4b28-4c3f-8a03-83d8ab373438"
      },
      "outputs": [
        {
          "output_type": "execute_result",
          "data": {
            "text/plain": [
              "[name: \"/device:CPU:0\"\n",
              " device_type: \"CPU\"\n",
              " memory_limit: 268435456\n",
              " locality {\n",
              " }\n",
              " incarnation: 7239110216727890324\n",
              " xla_global_id: -1,\n",
              " name: \"/device:GPU:0\"\n",
              " device_type: \"GPU\"\n",
              " memory_limit: 14328594432\n",
              " locality {\n",
              "   bus_id: 1\n",
              "   links {\n",
              "   }\n",
              " }\n",
              " incarnation: 337425258359147959\n",
              " physical_device_desc: \"device: 0, name: Tesla T4, pci bus id: 0000:00:04.0, compute capability: 7.5\"\n",
              " xla_global_id: 416903419]"
            ]
          },
          "metadata": {},
          "execution_count": 2
        }
      ],
      "source": [
        "#test GPU device\n",
        "import tensorflow as tf\n",
        "tf.test.gpu_device_name()\n",
        "from tensorflow.python.client import device_lib\n",
        "device_lib.list_local_devices()"
      ]
    },
    {
      "cell_type": "code",
      "execution_count": 153,
      "metadata": {
        "id": "-LhTRElm-8yG"
      },
      "outputs": [],
      "source": [
        "#add bert model\n",
        "from transformers import BertTokenizerFast, BertForTokenClassification\n",
        "from torch.nn.functional import softmax\n",
        "import torch\n",
        "#import packages\n",
        "import numpy as np\n",
        "import pandas as pd\n",
        "from sklearn.model_selection import train_test_split\n",
        "from sklearn.linear_model import LogisticRegression\n",
        "from sklearn.model_selection import GridSearchCV\n",
        "from sklearn.model_selection import cross_val_score\n",
        "import torch\n",
        "import transformers as ppb\n",
        "import warnings\n",
        "warnings.filterwarnings('ignore')\n",
        "from sklearn.metrics import precision_score, recall_score\n"
      ]
    },
    {
      "cell_type": "code",
      "execution_count": 154,
      "metadata": {
        "id": "T3A3AdIh_OqL"
      },
      "outputs": [],
      "source": [
        "#import dataset\n",
        "# test_df = pd.read_csv('https://github.com/clairett/pytorch-sentiment-classification/raw/master/data/SST2/train.tsv', delimiter='\\t', header=None)\n",
        "#import dataset from github\n",
        "ADETrainingdata = pd.read_csv('https://raw.githubusercontent.com/FANMISUA/TweetAENormalization/main/ADEClassification/ADETraining.tsv', delimiter='\\t')\n",
        "ADEValidationdata = pd.read_csv('https://raw.githubusercontent.com/FANMISUA/TweetAENormalization/main/ADEClassification/ADEValidation.tsv', delimiter='\\t')"
      ]
    },
    {
      "cell_type": "code",
      "source": [
        "#import normalization data\n",
        "RawTweets = pd.read_csv('https://raw.githubusercontent.com/FANMISUA/TweetAENormalization/main/ADENormalization/Dev/tweets.tsv',delimiter='\\t')\n",
        "SpansNorm = pd.read_csv('https://raw.githubusercontent.com/FANMISUA/TweetAENormalization/main/ADENormalization/Dev/spans_norm.tsv',delimiter='\\t')\n",
        "\n",
        "#check the tweets id in Spans Norm and Raw Tweets\n",
        "# print(\"get the tweets id in Raw Tweets:\\n\",RawTweets.iloc[:,0])\n",
        "# print(\"Get the tweets id in Spans Norm:\\n\",SpansNorm.iloc[:,0])\n",
        "list1 = RawTweets.iloc[:,0]\n",
        "list2 = SpansNorm.iloc[:,0]\n",
        "common_values = set(list1).intersection(set(list2))\n",
        "print(\"common tweets id:\",common_values)\n",
        "print(\"Total tweets:\",len(set(list1)),\"Tweets with AE:\",len(set(list2)),\"matched tweets:\",len(common_values))"
      ],
      "metadata": {
        "colab": {
          "base_uri": "https://localhost:8080/"
        },
        "id": "ICHkiH7A2FTE",
        "outputId": "15901f0e-1215-4f05-c193-9fa239c942b5"
      },
      "execution_count": 155,
      "outputs": [
        {
          "output_type": "stream",
          "name": "stdout",
          "text": [
            "common tweets id: {'SMM4H2022abr0OQs8okhO3F1M', 'SMM4H2022GEEGMyvixhP65MzB', 'SMM4H2022UGqZXi74Aq6rkF4J', 'SMM4H2022cjwbGQbnkpVjjJzR', 'SMM4H20221gMMy4c5pFbIYXpE', 'SMM4H2022zS5jwcGxhKiV9M6s', 'SMM4H2022HKMAb7UyA9DBgC0X', 'SMM4H2022RKHfXCWIZXEAIC6c', 'SMM4H20226b5WyZPTAJ7qL3dE', 'SMM4H2022MzDdtDqSq1LhsEKO', 'SMM4H2022UIXArsYjQ9fMwI4H', 'SMM4H2022UAvDTQWOIacvBkzp', 'SMM4H20221fZluiIo0whXaJA6', 'SMM4H2022WDJyq2OdnyWLMJT5', 'SMM4H2022Wh5BgCEutjAsILyO', 'SMM4H2022rZ604dAppHEgW0eE', 'SMM4H2022TIrTKWWfCAO02Uli', 'SMM4H202280H6GSvA1HFITRkC', 'SMM4H2022xPmAaH9Kvenuxhu2', 'SMM4H20223wRT70sBQURHsKEE', 'SMM4H2022TuXafFONznuqO8aQ', 'SMM4H2022nWG1t3YGOaL80SEc', 'SMM4H2022qpOud7DsjWMhWhFb', 'SMM4H2022PInYkYqdCaYoOMHW', 'SMM4H2022PHaTAtxs8MUXKgxV', 'SMM4H2022lX1A8RVuySkDzAB2', 'SMM4H2022eUHEdYa9HaG1N9d7', 'SMM4H20222sbwdYiQfnBCsPsl', 'SMM4H2022Dd6AFmou1yEhnoRH', 'SMM4H2022Xd3yVjFU568MhuMv', 'SMM4H2022yfpTy24FLthRUaay', 'SMM4H2022r2Rhx2VTef0t53fP', 'SMM4H2022w1Dip50oWfNYBVdo', 'SMM4H2022qZC2BPG2BW7UC175', 'SMM4H20220LbDv7WiGBW7nQR4', 'SMM4H2022mQX8Uwh2MeAyx0vv', 'SMM4H2022a2hde3adQrDE2HIV', 'SMM4H2022Pnl1fVP8pycgcugd', 'SMM4H2022WrDsctt80lnF7suS', 'SMM4H2022OjDAlww1rH9bbUhW', 'SMM4H20220mSmvlK5h4hXJNh9', 'SMM4H20229Aha6m4XERqYdFWf', 'SMM4H2022kj75P73z8raG9D5M', 'SMM4H2022WjGLwsETJIENmrJJ', 'SMM4H2022xUuEe5qp3vZY144W', 'SMM4H2022IHybeqCT2oRARJlu', 'SMM4H2022WYlG44rGLAMzXI7I', 'SMM4H2022Ktwet43odUtXgxNZ', 'SMM4H2022FupUyp3V1qkdfaQW', 'SMM4H20228cuioIXvYfiRZ4jv', 'SMM4H2022Obitap6ILHXjD5SH', 'SMM4H2022X0coJTr3qC19JXST', 'SMM4H2022ln1yHLJYGxK0tvGO', 'SMM4H2022SDuYUDOiLTAqQMki', 'SMM4H2022dUpa56FmoF70Koge', 'SMM4H2022lRmiVKCnPwZBP37M', 'SMM4H20228zyP7ZWneGoetY6M', 'SMM4H2022DNWR10SKNZOERYWL', 'SMM4H2022qNHntuJnkevkahGr', 'SMM4H2022hceks3meUmDcJLy8', 'SMM4H2022FdTorKia743f8oX2', 'SMM4H2022vx0oZQy12tkjRIPz', 'SMM4H2022aIYAHWf4HBgj52hp', 'SMM4H2022uCZV2SRsCe4vzjFm'}\n",
            "Total tweets: 908 Tweets with AE: 65 matched tweets: 64\n"
          ]
        }
      ]
    },
    {
      "cell_type": "code",
      "source": [
        "# from transformers import AutoTokenizer, AutoModelForTokenClassification\n",
        "\n",
        "# # Load BioBERT model and tokenizer\n",
        "# model_name = \"monologg/biobert_v1.1_pubmed\"\n",
        "# tokenizer = AutoTokenizer.from_pretrained(model_name)\n",
        "# model = AutoModelForTokenClassification.from_pretrained(model_name)\n",
        "\n",
        "# # Example input text\n",
        "# text = \"The patient was prescribed paracetamol and ibuprofen for pain relief.\"\n",
        "\n",
        "# # Tokenize the input text\n",
        "# tokens = tokenizer.encode_plus(text, truncation=True, padding=True, return_tensors='pt')\n",
        "\n",
        "# # Perform inference with BioBERT model\n",
        "# with torch.no_grad():\n",
        "#     outputs = model(**tokens)\n",
        "\n",
        "# # Get the predicted labels\n",
        "# predicted_labels = torch.argmax(outputs.logits, dim=2).squeeze()\n",
        "\n",
        "# # Map the predicted labels to drug terms\n",
        "# drugs = []\n",
        "# for token, label in zip(tokens['input_ids'][0], predicted_labels):\n",
        "#     if label != tokenizer.pad_token_id:\n",
        "#         drugs.append(tokenizer.decode(token))\n",
        "\n",
        "# # Print the extracted drugs\n",
        "# print(drugs)\n"
      ],
      "metadata": {
        "colab": {
          "base_uri": "https://localhost:8080/"
        },
        "id": "0gzzz9l6SF8z",
        "outputId": "167fc279-71d1-4506-a17b-1d78f9f3ebd0"
      },
      "execution_count": null,
      "outputs": [
        {
          "output_type": "stream",
          "name": "stderr",
          "text": [
            "Some weights of BertForTokenClassification were not initialized from the model checkpoint at monologg/biobert_v1.1_pubmed and are newly initialized: ['classifier.bias', 'classifier.weight']\n",
            "You should probably TRAIN this model on a down-stream task to be able to use it for predictions and inference.\n"
          ]
        },
        {
          "output_type": "stream",
          "name": "stdout",
          "text": [
            "['##p', '[SEP]']\n"
          ]
        }
      ]
    },
    {
      "cell_type": "code",
      "execution_count": 156,
      "metadata": {
        "colab": {
          "base_uri": "https://localhost:8080/"
        },
        "id": "173nKUBX_QVa",
        "outputId": "f018abd5-fbd7-4bf3-fcc7-69fe3b667a90"
      },
      "outputs": [
        {
          "output_type": "stream",
          "name": "stdout",
          "text": [
            "0    255\n",
            "1     45\n",
            "Name: label, dtype: int64\n",
            "              tweet_id                                               text  \\\n",
            "0  1382343793341575169  @IrvineWelsh I don’t know about you Irvine but...   \n",
            "1  1377631738692796417  I bet money if i went n took a covid test righ...   \n",
            "2  1386448010029240326  @JamesMelville My wife received a POSITIVE Cov...   \n",
            "3  1361342676340211717  Out of the 180,000+ people who have had the tw...   \n",
            "4  1386757983254765569  My whole family is sick af and here I am now i...   \n",
            "\n",
            "   label  \n",
            "0      0  \n",
            "1      0  \n",
            "2      0  \n",
            "3      0  \n",
            "4      0  \n"
          ]
        }
      ],
      "source": [
        "# train the ADE model\n",
        "#print(ADETrainingdata.head() , ADEValidationdata.head())\n",
        "#use the first 2000 rows of the training data\n",
        "# ADETrainingdata[:2000]\n",
        "# ADETrainingdata.iloc[:3,-3:]\n",
        "#ADETrainingdata['tweet_id'][:200]\n",
        "#only use the first 2000 tweets in Training data as training\n",
        "print(ADETrainingdata['label'][:300].value_counts())\n",
        "training_batch_1 =ADETrainingdata[:300]\n",
        "print(training_batch_1.head())"
      ]
    },
    {
      "cell_type": "code",
      "source": [
        "#balance the data\n",
        "t_batch_ade = training_batch_1[training_batch_1['label'] == 1]\n",
        "t_batch_noade = training_batch_1[training_batch_1['label'] == 0]\n",
        "# print(t_batch_ade.shape,t_batch_noade.shape)\n",
        "#downsampling\n",
        "t_batch_noade_downsampled = t_batch_noade.sample(t_batch_ade.shape[0])\n",
        "t_batch_balanced = pd.concat([t_batch_ade,t_batch_noade_downsampled])\n",
        "# print(t_batch_balanced['label'].value_counts())\n",
        "#proprecess the tweets\n",
        "print(\"before clean\",t_batch_balanced)\n",
        "t_batch_balanced['text'] = proprocess_tweets(t_batch_balanced['text'])\n",
        "print(\"after clean  \",t_batch_balanced)\n"
      ],
      "metadata": {
        "colab": {
          "base_uri": "https://localhost:8080/"
        },
        "id": "lT726cWRAl-W",
        "outputId": "ace0d67e-be0e-4873-e829-71f212aa2f5c"
      },
      "execution_count": 184,
      "outputs": [
        {
          "output_type": "stream",
          "name": "stdout",
          "text": [
            "before clean                 tweet_id                                               text  \\\n",
            "6    1383272654212272136  Test came back positive, no surprise. I have c...   \n",
            "9    1362671045136809985  I’m going to sound like I have lost my marbles...   \n",
            "10   1373077971658022918  I just tested positive for Covid-19 from two s...   \n",
            "13   1379116535726415874  As I was in the ER last night I overheard a co...   \n",
            "22   1375292877195120640  @Tempid_ I actually tested positive for covid....   \n",
            "..                   ...                                                ...   \n",
            "61   1382471005210341383  @DoorDash as if you guys can’t get any worse. ...   \n",
            "151  1380919039061602305  @OwenJon29550837 @djenkinfitness @UKCovid19Sta...   \n",
            "281  1377037200349569024  @nathanfletcher I see so far we have 70 positi...   \n",
            "93   1383623674901663747  @thomaskaine5 @proudCanadavet My sis in law ju...   \n",
            "20   1333413081083310081  There are Lies, Damn lies, and Statistics.http...   \n",
            "\n",
            "     label  \n",
            "6        1  \n",
            "9        1  \n",
            "10       1  \n",
            "13       1  \n",
            "22       1  \n",
            "..     ...  \n",
            "61       0  \n",
            "151      0  \n",
            "281      0  \n",
            "93       0  \n",
            "20       0  \n",
            "\n",
            "[90 rows x 3 columns]\n",
            "after clean                   tweet_id                                               text  \\\n",
            "6    1383272654212272136  Test came back positive, no surprise. I have c...   \n",
            "9    1362671045136809985  Im going to sound like I have lost my marbles ...   \n",
            "10   1373077971658022918  I just tested positive for Covid-19 from two s...   \n",
            "13   1379116535726415874  As I was in the ER last night I overheard a co...   \n",
            "22   1375292877195120640  I actually tested positive for covid. Was only...   \n",
            "..                   ...                                                ...   \n",
            "61   1382471005210341383  as if you guys cant get any worse. You had a d...   \n",
            "151  1380919039061602305  It could be that those people tested positive ...   \n",
            "281  1377037200349569024  I see so far we have 70 positive Covid test wi...   \n",
            "93   1383623674901663747  My sis in law just got admitted to hospital in...   \n",
            "20   1333413081083310081  There are Lies, Damn lies, and Statistics. my ...   \n",
            "\n",
            "     label  \n",
            "6        1  \n",
            "9        1  \n",
            "10       1  \n",
            "13       1  \n",
            "22       1  \n",
            "..     ...  \n",
            "61       0  \n",
            "151      0  \n",
            "281      0  \n",
            "93       0  \n",
            "20       0  \n",
            "\n",
            "[90 rows x 3 columns]\n"
          ]
        }
      ]
    },
    {
      "cell_type": "code",
      "source": [
        "#split training and testing\n",
        "train_x, test_x, train_y, test_y = train_test_split(t_batch_balanced['text'], t_batch_balanced['label'],  test_size=0.2, random_state=42)\n",
        "# test_x.shape\n"
      ],
      "metadata": {
        "colab": {
          "base_uri": "https://localhost:8080/"
        },
        "id": "lEy-TbENDXew",
        "outputId": "a00c4374-121a-4735-d20d-52f1bc59edff"
      },
      "execution_count": 159,
      "outputs": [
        {
          "output_type": "execute_result",
          "data": {
            "text/plain": [
              "(18,)"
            ]
          },
          "metadata": {},
          "execution_count": 159
        }
      ]
    },
    {
      "cell_type": "code",
      "source": [
        "#add preprocessing step to clean the tweets\n",
        "import re\n",
        "def preprocessTweet1(tweet):\n",
        "    # process the tweets\n",
        "\n",
        "    # Remove 'RT' from tweet\n",
        "    tweet = re.sub(r'RT[\\s]+', '', tweet)\n",
        "    # Remove &amp; (ampersand)\n",
        "    tweet = re.sub(r'&amp;', 'and', tweet)\n",
        "    #Convert www.* or https?://* to URL\n",
        "    tweet = re.sub('((www\\.[^\\s]+)|(https?://[^\\s]+))','',tweet)\n",
        "    #Convert @username to @USER\n",
        "    tweet = re.sub('@[^\\s]+','',tweet)\n",
        "    #Remove additional white spaces\n",
        "    tweet = re.sub('[\\s]+', ' ', tweet)\n",
        "    #Replace #word with word\n",
        "    tweet = re.sub(r'#([^\\s]+)', r'\\1', tweet)\n",
        "    # Remove all emojis.\n",
        "    emoji_pattern = re.compile(\"[\"\n",
        "                           u\"\\U0001F600-\\U0001F64F\"  # emoticons\n",
        "                           u\"\\U0001F300-\\U0001F5FF\"  # symbols & pictographs\n",
        "                           u\"\\U0001F680-\\U0001F6FF\"  # transport & map symbols\n",
        "                           u\"\\U0001F1E0-\\U0001F1FF\"  # flags (iOS)\n",
        "                           u\"\\U00002702-\\U000027B0\"\n",
        "                           u\"\\U000024C2-\\U0001F251\"\n",
        "                           \"]+\", flags=re.UNICODE)\n",
        "\n",
        "    tweet = emoji_pattern.sub(r'', tweet)\n",
        "\n",
        "    # Remove redundant spaces\n",
        "    tweet = re.sub(r'\\s+', ' ', tweet).strip()\n",
        "\n",
        "    #remove unknown characters\n",
        "    tweet = ''.join([c for c in tweet if ord(c) < 128])\n",
        "\n",
        "    #trim\n",
        "    tweet = tweet.strip('\\'\"')\n",
        "    return tweet\n",
        "\n"
      ],
      "metadata": {
        "id": "cYKW2tH6JwRV"
      },
      "execution_count": null,
      "outputs": []
    },
    {
      "cell_type": "code",
      "source": [
        "def proprocess_tweets(tweets):\n",
        "  processed_tweets = [preprocessTweet1(tweet) for tweet in tweets]\n",
        "  return processed_tweets"
      ],
      "metadata": {
        "id": "qO28XtlUEfk6"
      },
      "execution_count": null,
      "outputs": []
    },
    {
      "cell_type": "code",
      "source": [
        "print(t_batch_balanced['text'])\n",
        "print(proprocess_tweets(t_batch_balanced['text']))\n"
      ],
      "metadata": {
        "colab": {
          "base_uri": "https://localhost:8080/"
        },
        "id": "TchRH9NHFCi7",
        "outputId": "40723c36-d4e7-4b27-f76b-c154f7973c70"
      },
      "execution_count": 178,
      "outputs": [
        {
          "output_type": "stream",
          "name": "stdout",
          "text": [
            "6      Test came back positive, no surprise. I have c...\n",
            "9      I’m going to sound like I have lost my marbles...\n",
            "10     I just tested positive for Covid-19 from two s...\n",
            "13     As I was in the ER last night I overheard a co...\n",
            "22     @Tempid_ I actually tested positive for covid....\n",
            "                             ...                        \n",
            "75     I will not get the Pfizer vaccine I pfeel just...\n",
            "262    @jashby23 I would get it if he had COVID or go...\n",
            "182    What’s the point of getting vaccinated if you’...\n",
            "246    A small milestone. It’s been over a year since...\n",
            "238    I found out one of my family members got covid...\n",
            "Name: text, Length: 90, dtype: object\n",
            "[\"Test came back positive, no surprise. I have covid. Have been fully vaccinated since end of Jan, but the last 2 weeks at work have been on the Covid unit with patients that don't keep their masks on and have not the greatest hygiene, and myself not following strict PPE guidelines\", 'Im going to sound like I have lost my marbles but.... I havent felt this well since before I tested positive for covid! I was expecting to feel like death warmed up today after my vaccine yesterday. Madness, long may it last', 'I just tested positive for Covid-19 from two separate clinics. As if self-quarantining and being told to avoid contact with people is a punishment. Bring it on! My vaccine appt is early next month.', 'As I was in the ER last night I overheard a conversation from someone working at the hospital about how she had so much fun in Miami for spring break and was at a club every night. I tested positive for COVID and I havent been anywhere. Nope, life isnt fair.', 'I actually tested positive for covid. Was only sick for 2 days though. Never lost taste/smell. Just had fever, sore throat, and body aches.', 'One week back from Daytona, my whole family gets really sick, but all of them are negative for Covid. I feel 100% fine and test positive. ', 'Please advise...my GP is advising me NOT to get 1st vaccine. I had Covid in Dec and rcvd an antibody infusion. I tested positive for antibodies last week. She feels Ill get sick from vaccine and I should wait. Im 57 with co-morbidities who trusts her doctor... but....', 'Haha this happened to me last week!! Less than 24 hours before my scheduled apt I tested positive for COVID.', 'Doubt Ill be in hospital 6 days or hubby 24 ....thats what covid did to us', 'Im concerned, Im fully vaccinated and I had to get COVID test I was supposed to have surgery on Monday, was notified yesterday that my surgery was cx because my Covid test came back positive ', 'I tested positive for covid yesterday. ', \"Well apparently I have 'long covid' (thats what I'm being treated for) but I'm still as yet to see a positive covid test because what they said (on my notes) was I had flu Work that out\", 'I got Covid tested today and my eyes didnt even water when they swabbed me However I did cry when my results came back positive and I learned I got it from work', \"Have you had covid or anyone close in your family? Some of your woke views I agree with.. but when my family has been through hell and back when I tested positive and you're out there not giving a toss... you lost every ounce of empathy I thought you had gutted\", 'Update: I tested positive in January. I received the first dose of the Pfizer vaccine yesterday. Today I have the same symptoms that I had Day 2 of Covid.', 'Really? Im recovering from Covid (diagnosed on Christmas Eve day and slept for 2 weeks straight) and still dont feel great. I really wish the vaccine had been available to me before I was infected. My advice to anyone with doubts: Get the vaccine. Covid is no fun.', 'Update: I tested positive for covid19..I literally stayed away from everything and followed all the guidelines closely.. I was exposed days before my vaccine..The timing of this all (I feel fine now. Results took long enough that my symptoms are all resolved)', 'I, too, spent 7 days in the hospital and 7+ weeks on oxygen due to Covid. PleaseGetVaccinated', 'just tested positive for Covid-19, despite my vaccination COVID19', 'I see you giving money to people all the time I could really use it I tested positive for Covid and cant work .', 'Monday: \"I can finally sign up to get the COVID-19 vaccine!\"Today: \"The result of your COVID-19 test is positive.\"On the plus side, at least I\\'ll have a participation award for this strange year of our lives.', 'Let me tell you how powerful your music is to me. Im currently in the hospital battling COVID pneumonia and its been a rough road for me. Im separated from being around my children I can only video chat them or call them.', 'Thank you. Im a cna. I unfortunately will not be able to get the vaccine for at least 3 months, because I tested positive for covid on Thursday. But it warms my heart that Congress can get them and not pass any aid. NOT.', 'YEAH HOLD ON LET ME TAKE MY POSITIVE COVID TEST ASS NEW HAMPSHIRE ASS RIGHT ON OVER TO CHEESETOWN RQ BE THERE IN...... x HOURS', '1-28-2021: I received the Moderna vaccine on 12-30-2020 and again on 1-27-2021. The slight pain in my upper right arm began about 5 hours after my 2nd shot and should go away at about 72 hours. I had tested positive for COVID-19 on 1-4-2021 and on 1-8-2021 but negative 1-21-2021', 'I have an autoimmune disease, Im raising my grandchildren, 5 and 7, they need me...I was diagnosed with COVID last Friday. Ive been terribly sick for 10 days now, seeing a Dr this morning trying to avoid the hospital. I cant get a vaccine yet!You dont deserve a vaccine first!', 'Tested positive for covid a week after receiving my vaccine. I had no unmasked contact with anyone aside from roommate. Never ate outside of my dorm room. I feel guilty but know I took every preventative measure within my control.', \"No. Never worried once. I don't live my life in fear. PS, I have a chronic autoimmune disorder and I did test positive for covid last fall. I've had worse colds than that.\", \"right now I'm scared I tested positive for covid in December but got through it today I had to book another test people with symptoms need the vaccine now please help the people that need it now\", 'Hahahahhaa I just tested positive for Covid, still dont want the vaccine', '1 year ago today, I tested positive for Covid', 'I\\'ve tested positive for COVID-19. Mild-ish symptoms so far, but still no fun. I\\'m half-vaccinated, which might be helping me out. No idea where I was exposed. I\\'ve been pretty careful. But as the doctor said after my COVID tests, \"It\\'s everywhere right now.\"Be smart. Be well.', 'and also same I ask 30 days ago When I had COVID19 and I spend 2 Weeks in The Hospital and almost die, I asked My Doctor if I will be OK 100% with The treatment and How long I will be OK and If a Future Vaccine can help me100% to be OK and Safe???', 'I am ready for my vaccine! I have had Covid-19 and know how bad it is! I was lucky! I had really low energy and viral pneumonia! In the hospital for a week! I was lucky to make it!', \"A week ago yesterday I tested positive for Covid 19. It's been a challenge just to breathe. I've avoided hospitalization thankfully. I'm ready for a vaccine any time .\", 'All because I tested positive for Covid Ctfu but wonder why I dog niggas man Im tired of being nice', \"That's how I was tested positive for COVID.\", 'Had the first round of the vaccine last week, tested positive for covid this week. I swear I cant win for losing', 'Too early to have a real vaccine, but just about a week too late for me as I was tested covid positive today.', 'Well as you and many of my Twitter followers my 3 month battle with Covid was no flu anyone would want. I also had extreme emotional distress in the hospital. But nonetheless Covid is NOT the flu, and I wish every1 would STOP spreading that myth.', \"My only issue is I've caught covid in between doses so I hope this doesn't mean I'm gonna be really ill. Like the first time j was okay for 24 hours then I was exhausted for 3 days and then tested positive for Covid so ai don't know if that was a side effect or Covid\", 'It\\'s great to see so many people are getting the COVID vaccine and show their immunization card. Sadly, my immunization record is my positive test result. I guess I went the more \"organic\" route. Will still get the vaccine when available to me.', 'Well, I tested positive for covid19 today. Here goes..', 'Ive been eligible since early on - but unable to get an appointment. Unfortunately, I tested positive on 2/26. Rescued with an antibody infusion. God I wish I was able to be vaccinated. A little more than 3 weeks later and I am still in the Covid trenches! Mask up and VACCINATE!!!', \"Someone tweeted saying that my name is fake and someone else tweeted that I performed knowing I had covid. Neither of those things are true. I did test positive for covid yesterday and I'm now isolating in an abandoned dorm room. Feel free to call me, thanks twitta.\", 'I also know someone laying in the hospital right now who is jaundice from receiving the \"COVID vaccine\" though they also happen to have a pre-existing condition.Merely one data point.', \"Do I Have to Wear a Mask if I'm Vaccinated Against COVID-19? CDC Updates Guidelines I say yes , take it from me who was tested positive for Covid 19 last week folks ! be safe and let the vaccination work! but let others be safe around you !\", 'Right, makes you susceptible to pneumonia from the bacteria in masks  which interestingly enough, everyone I know that has covid on their death certificate, went to the hospital with pneumonia  makes you think', \"Today: 1 person (after overnight code) in ICU w/COVID. 5 in IMC. 7 in med/surg.If, by end of April, that hasn't increased, I will begin to really hope this may be ending.We're seeing a bit of ^ in +s. But last spike of +s did NOT = hospitalizations.So...we'll see.\", \"the issue of covid is the hospitalization rate. since it's highly contagious, people will still get sent to the hospital. hawai'i doesn't have a lot of hospitals, and because of the infrastructures, can't afford having them filled with people who wouldn't otherwise be there.\", \"Thursday's COVID numbers:1,646 new COVID cases in Alberta on 17,198 tests (9.6%+)5 new deaths, up to 2,034416 in hospital (-4), 86 in ICU (-6)16,223 active cases (+654)My heartfelt condolences to the families of those we lost.\", 'So Boris doesnt want to risk another lockdown so is keeping us in er......lockdown! Does he realise how fucking stupid this sounds?? I want my freedom back. No ifs, no buts, no Covid passports. unlockthecountry', 'Im fine w/laws that make it thru the legislative process such as those in your example. Im not fine w/mayors and governors signing their names to EOs a year into a pandemic while there are 628 hospitalized in AZ w/covid. Disagree on role of govt. still respect you though', 'I feel like we dont talk about this enough. New Zealand will keep you in a COVID camp til you agree to be tested. Then if you show positive you cant leave til you have the vaccine.Fascism is coming back fast.', 'If you die within 28 days of a positive test, even if its a heart attack or stroke, it goes down as a CoVid death statistic.If you die within days or even just hours of the injection, its just bad luck or coincidence.And people accept this nonsense!?Words truly fail me...', \"That's possible. I had all the symptoms of covid in a mild form for 2-3 days after. Maybe it's a false positive? I would get tested again. Either way, the vaccine is proven to give protection, though it takes time to set in. So hopefully you get better soon.. I also got pfizer.\", \"Don't worry shagger, COVID status is different to vaccine status. Just whack a fucking swab up your nose before you go town then you're laughing - I believe entry would only come down to negative vs positive status.\", 'A woman earlier at work really exploded on one of my employees for telling her to put her mask on and preceded to rant about how she works in the ER and that we need to get over Covid and move on with our lives safe to say yt people are crazy. I was just like ', 'I think what hurts the most is that the physicians who are prescribing these treatments there are not the ones seeing patients with COVID in the hospital, you know?', 'guess who has another classmate who has been tested positive to covid? yeah me. other two tampons coming soon :,)', 'Wish I would have known varane was gonna test positive before I placed my bet yesterday this covid bs really fcking up the betting game', 'Does anyone have a positive COVID test paperwork sheet I can see pls?? Like what did u get given to say u tested positive for COVID19 Pls can u post a picture. Many thanks', \"Part of me hopes that my COVID test comes back positive so my family can realize it's more than just a cold, but like I hope it's negative because I need to get out of this house\", \"But then it's over and you're protected. I would rather feel like hot garbage for a couple of days, knowing I'm not actually sick, than be laid up in ICU on a vent with Covid. But, everyone has different tolerance levels. I'm just big on if you're offered any vaccine, take it.\", \"Yoooooo so apparently one of the students I taught on Monday tested positive for Covid and I was all up in everyone's computers that day so I have to go get tested\", 'Someone I love very much was diagnosed with covid 19 today. Please wear masks, wash your hands and stay the heck away from each other. Please. We are almost there.', \"I think it's a heck of a coincidence that 3 health workers in Norway who had recently received the AstraZeneca COVID-19 vaccine are being treated in hospital for bleeding, blood clots and a low count of blood platelets,\", 'Whats so interesting to me is that the hospitals are filling up with vaxxed people who now have covid and no one is reporting it to vaers !! My pop had the shot and is now a rona victim in the hospital , so what they are doing is criminal', 'my wife is currently 33 weeks pregnant and we are now going to hospital on a weekly basis for checks and monitoring. I am worried about giving my unborn child coronavirus due to these frequent visits. Would I now be able to get the vaccine as they are at high risk?', 'I had a severe case of COVID (not hospitalized). Months ago and still not recovered lung capacity. Had first shot and bad reaction. Chose not to have second.', 'Oxford University has scrambled to create a vaccine for a new, debilitating disease that only I have been diagnosed with called COVID-Having gorgeous, scrumptious tits, a juicy ass, beautiful hair and being funny-19.', \"Positive Covid test in the Germany squad apparently so they're quarantining.Break free , we need you. I'll meet you at the docks.\", 'Continuing to Pray for Healing miracles for and for 3 others, who have had the COVID19 Virus for over a month and are hospitalized for it. One lady Needs to Wake up from a Coma, due to it! ChristJesus Hear Our Prayers , and in humility, I Am Begging You for Miracles!', 'At very best it shows the vaccine is useless. 2nd worst is the vaccine made him test positive and he died of any cause but tested positive, hence Covid death. Worst case, the vaccine killed him. Im leaning toward 2and3.', 'I can tell you it was bad to have. I consider myself a lucky person because I didnt end up in the hospital. But, it knocked me on my butt. I was so sick. I did get the vaccination. It is worth having the side effects then COVID itself.', 'As lockdowns are lifted it would be helpful to know how many school children are back at home because pupils or teachers have tested positive for Covid19. I think the daily tally should be publicised.', 'My whole family is sick af and here I am now in the hospital with heart palpitations and praying its not covid ', 'I tested positive but not for COVID', 'My Pawpaw has been in the hospital a few days. We got special approval to come see him due to COVID. PLEASE pray for my family and my sweet Pawpaw. I this man so much, pray for his comfort and that he can come home ASAP. He asked if he looked good in his pic-HE DOES! ', \"After spending 12 days in the hospital (non-COVID), I can confirm that healthcare workers are working harder than any person should have to. I don't know how they manage to do it all. And efforts to support healthcareprofessionals should not stop when a vaccine is released.\", 'yes, I do know that..all I was saying was that across all CBP stations in the US, they only had 48 who were COVID positive..they are tested BEFORE they are released and let into the US..but Abbot is trying to make THEM take the fall for the upcoming infections..and good for them', 'I have known nurses really bugger up blood tests, cannula insertions, and the like. But thats not the same at all as a simple injection. While this isnt done for the COVID-19 vaccination, I have had injections in hospital where they inject you through the unbroken skin.', 'is a nutbag. Lets not forget he created his own lil ophthalmology Board, to avoid having to follow the rules of recertification every 10 years. I wouldnt let him get near my eyes. He also exposed fellow Congress members AFTER he tested positive for Covid', \"My last roommate was on a ventilator in the ICU with post covid pneumonia all last week and she almost fucking died but she told me this and I can't stop laughing\", 'Perhaps Trump will get this doc involved again ;\"I\\'ve personally tested this virus on many patients. Lots of them are saying it\\'s the best vaccine ever. All their covid-19 tests were positive!', 'I will not get the Pfizer vaccine I pfeel just pfine. Will not be vaccinated by any brand, unless mandatory COVID19 record is required to board an airplane or leave the country. There is just not enough data and not a single person in my family has yet to test positive.', 'I would get it if he had COVID or got diagnosed with cancer or literally on his death bed, but he just tore his pectoral muscle and might be back later this year. Pretty classless to do something like that in front of a team thats lost two pitchers in 10 years.', 'Whats the point of getting vaccinated if youve already tested positive for Covid 19? The fact that Britains so-called journalists are failing to ask elementary sceptical questions like this makes me want to kneel down and bang my head on the floor for the rest of the day.', 'A small milestone. Its been over a year since my last panicattack. My attacks last for many hours at a time, cause me to fit and often have put me in hospital. It feels a huge victory especially with covid and Im grateful to have come this far. ptsd recovery', 'I found out one of my family members got covid one week after their 2nd dose. They were doing a work thing and happened to be around multiple unvaccinated teammates, one of those guys unknowingly had covid, then my family member and 2 teammates tested positive.']\n"
          ]
        }
      ]
    },
    {
      "cell_type": "code",
      "source": [
        "# def get_text_embeding(sentences):\n",
        "#   tokenized = sentences['text'].apply((lambda x: tokenizer.encode(x, add_special_tokens=True)))\n",
        "#   #load BERT model\n",
        "#   #Testing small bert model 'distilbert-base-uncased'\n",
        "#   model_class, tokenizer_class, pretrained_weights = (ppb.DistilBertModel, ppb.DistilBertTokenizer, 'distilbert-base-uncased')\n",
        "#   #testing pubmed bert model\n",
        "#   # model_class, tokenizer_class, pretrained_weights = (ppb.BertModel, ppb.BertTokenizer, 'ml4pubmed/BiomedNLP-PubMedBERT-base-uncased-abstract-fulltext_pub_section')\n",
        "\n",
        "#   tokenizer = tokenizer_class.from_pretrained(pretrained_weights)\n",
        "#   model = model_class.from_pretrained(pretrained_weights)\n",
        "#   return tokenized"
      ],
      "metadata": {
        "id": "Ca7jnJ7JDwa-"
      },
      "execution_count": 161,
      "outputs": []
    },
    {
      "cell_type": "code",
      "source": [
        "# get_text_embeding(t_batch_balanced['text'])\n",
        "t_batch_balanced['text']\n"
      ],
      "metadata": {
        "colab": {
          "base_uri": "https://localhost:8080/"
        },
        "id": "7QRyYSDeGopt",
        "outputId": "64c1733e-3cf1-477f-de9a-bc1c7a1777e6"
      },
      "execution_count": 164,
      "outputs": [
        {
          "output_type": "execute_result",
          "data": {
            "text/plain": [
              "6      Test came back positive, no surprise. I have c...\n",
              "9      I’m going to sound like I have lost my marbles...\n",
              "10     I just tested positive for Covid-19 from two s...\n",
              "13     As I was in the ER last night I overheard a co...\n",
              "22     @Tempid_ I actually tested positive for covid....\n",
              "                             ...                        \n",
              "75     I will not get the Pfizer vaccine I pfeel just...\n",
              "262    @jashby23 I would get it if he had COVID or go...\n",
              "182    What’s the point of getting vaccinated if you’...\n",
              "246    A small milestone. It’s been over a year since...\n",
              "238    I found out one of my family members got covid...\n",
              "Name: text, Length: 90, dtype: object"
            ]
          },
          "metadata": {},
          "execution_count": 164
        }
      ]
    },
    {
      "cell_type": "code",
      "source": [
        "# #test preprocessing\n",
        "\n",
        "# tweet_test = 'I am officially over Long Covid, no more stays in the ER, lockdown restrictions are being lifted. ðŸ™ ðŸ˜€  @Mariska @warrenleightTV https://t.co/rJWreLHS3A'\n",
        "\n",
        "# input_test = training_batch_1['text'][1]\n",
        "# clean_tweet_test=preprocessTweet1(tweet_test)\n",
        "\n",
        "# print(\"Input Tweet: \",training_batch_1['text'][0])\n",
        "\n",
        "# print(\"Clean Tweet: \",preprocessTweet1(training_batch_1['text'][0]))\n",
        "\n",
        "# # print(\"Raw tweet:\",tweet_test)\n",
        "# # print(\"Clean tweet:\",clean_tweet_test)"
      ],
      "metadata": {
        "colab": {
          "base_uri": "https://localhost:8080/"
        },
        "id": "nSL7FluKTx2k",
        "outputId": "b261800a-cb1f-4582-f0d9-d343a07172aa"
      },
      "execution_count": 165,
      "outputs": [
        {
          "output_type": "stream",
          "name": "stdout",
          "text": [
            "Input Tweet:  @IrvineWelsh I don’t know about you Irvine but i keep being told that Covid doesn’t exist, therefore the doctors and nurses in hospital are scratching their arses looking for something to do. Brilliant hoax. The scientists are great actors and empty coffins are filling the cemeteries. Sillyme\n",
            "Clean Tweet:  I dont know about you Irvine but i keep being told that Covid doesnt exist, therefore the doctors and nurses in hospital are scratching their arses looking for something to do. Brilliant hoax. The scientists are great actors and empty coffins are filling the cemeteries. Sillyme\n"
          ]
        }
      ]
    },
    {
      "cell_type": "code",
      "execution_count": 166,
      "metadata": {
        "id": "mJcUZADHTzyu"
      },
      "outputs": [],
      "source": [
        "#load BERT model\n",
        "#Testing small bert model 'distilbert-base-uncased'\n",
        "model_class, tokenizer_class, pretrained_weights = (ppb.DistilBertModel, ppb.DistilBertTokenizer, 'distilbert-base-uncased')\n",
        "#testing pubmed bert model\n",
        "# model_class, tokenizer_class, pretrained_weights = (ppb.BertModel, ppb.BertTokenizer, 'ml4pubmed/BiomedNLP-PubMedBERT-base-uncased-abstract-fulltext_pub_section')\n",
        "\n",
        "tokenizer = tokenizer_class.from_pretrained(pretrained_weights)\n",
        "model = model_class.from_pretrained(pretrained_weights)"
      ]
    },
    {
      "cell_type": "code",
      "execution_count": 186,
      "metadata": {
        "colab": {
          "base_uri": "https://localhost:8080/"
        },
        "id": "ccEFn9LzUQBu",
        "outputId": "8f7a9054-ceb7-4e70-f1bf-fc4219979638"
      },
      "outputs": [
        {
          "output_type": "stream",
          "name": "stdout",
          "text": [
            "6      [101, 3231, 2234, 2067, 3893, 1010, 2053, 4474...\n",
            "9      [101, 10047, 2183, 2000, 2614, 2066, 1045, 203...\n",
            "10     [101, 1045, 2074, 7718, 3893, 2005, 2522, 1725...\n",
            "13     [101, 2004, 1045, 2001, 1999, 1996, 9413, 2197...\n",
            "22     [101, 1045, 2941, 7718, 3893, 2005, 2522, 1725...\n",
            "                             ...                        \n",
            "61     [101, 2004, 2065, 2017, 4364, 2064, 2102, 2131...\n",
            "151    [101, 2009, 2071, 2022, 2008, 2216, 2111, 7718...\n",
            "281    [101, 1045, 2156, 2061, 2521, 2057, 2031, 3963...\n",
            "93     [101, 2026, 24761, 1999, 2375, 2074, 2288, 491...\n",
            "20     [101, 2045, 2024, 3658, 1010, 4365, 3658, 1010...\n",
            "Name: text, Length: 90, dtype: object\n"
          ]
        }
      ],
      "source": [
        "#tokenize the training tweets\n",
        "# tokenized = t_batch_balanced['text'].apply((lambda x: tokenizer.encode(x, add_special_tokens=True)))\n",
        "tokenized = t_batch_balanced['text'].apply((lambda x: tokenizer.encode(x, add_special_tokens=True)))\n",
        "# print(\"Input Tweet after cleaning: \",t_batch_balanced['text'])\n",
        "print(tokenized)"
      ]
    },
    {
      "cell_type": "code",
      "source": [
        "#padding\n",
        "#each tweet is represented as a list of tokens.\n",
        "#add padding to make all the sentence to the max length so that BERT could process all at once.\n",
        "max_len = 0\n",
        "for i in tokenized.values:\n",
        "    if len(i) > max_len:\n",
        "        max_len = len(i)\n",
        "\n",
        "padded = np.array([i + [0]*(max_len-len(i)) for i in tokenized.values])\n",
        "print(\"max len for padding: \",max_len, np.array(padded).shape)\n"
      ],
      "metadata": {
        "colab": {
          "base_uri": "https://localhost:8080/"
        },
        "id": "w0qH5dChLRuF",
        "outputId": "e9d911d7-103b-43ee-aaf2-b04dbe99d0b7"
      },
      "execution_count": 191,
      "outputs": [
        {
          "output_type": "stream",
          "name": "stdout",
          "text": [
            "max len for padding:  83 (90, 83)\n"
          ]
        }
      ]
    },
    {
      "cell_type": "code",
      "source": [
        "#Masking the paddding\n",
        "attention_mask = np.where(padded != 0, 1, 0)\n",
        "attention_mask.shape\n",
        "# print(attention_mask[10])"
      ],
      "metadata": {
        "colab": {
          "base_uri": "https://localhost:8080/"
        },
        "id": "fE1ujIUALf-l",
        "outputId": "1522b0ab-936b-4352-fcc5-5551efe7e061"
      },
      "execution_count": 192,
      "outputs": [
        {
          "output_type": "execute_result",
          "data": {
            "text/plain": [
              "(90, 83)"
            ]
          },
          "metadata": {},
          "execution_count": 192
        }
      ]
    },
    {
      "cell_type": "code",
      "source": [
        "#Use pretrained Bert model to word embedding all the sentences\n",
        "input_ids = torch.tensor(padded)\n",
        "attention_mask = torch.tensor(attention_mask)\n",
        "\n",
        "with torch.no_grad():\n",
        "    last_hidden_states = model(input_ids, attention_mask=attention_mask)\n",
        "\n"
      ],
      "metadata": {
        "id": "GyJMPnNjLy87"
      },
      "execution_count": 193,
      "outputs": []
    },
    {
      "cell_type": "code",
      "source": [
        "#Get the tensor dimension\n",
        "print(last_hidden_states[0])\n",
        "print(last_hidden_states[0].size())"
      ],
      "metadata": {
        "colab": {
          "base_uri": "https://localhost:8080/"
        },
        "id": "pNAQeRGyMeBo",
        "outputId": "aa7c1c2a-b8b5-4690-eed6-90e64e084376"
      },
      "execution_count": 194,
      "outputs": [
        {
          "output_type": "stream",
          "name": "stdout",
          "text": [
            "tensor([[[-0.0077, -0.0207,  0.1494,  ..., -0.0705,  0.4320,  0.3934],\n",
            "         [ 0.3990, -0.2975,  0.2578,  ..., -0.4934,  0.4676, -0.4215],\n",
            "         [-0.2777, -0.4936,  0.7285,  ..., -0.2239,  0.3164, -0.0129],\n",
            "         ...,\n",
            "         [ 0.0784,  0.0143,  0.0455,  ..., -0.3455,  0.0210, -0.3327],\n",
            "         [-0.0151,  0.0204,  0.0850,  ..., -0.3674,  0.0930, -0.2946],\n",
            "         [ 0.0107, -0.0567,  0.0802,  ..., -0.3056, -0.0385, -0.0550]],\n",
            "\n",
            "        [[ 0.1890,  0.1106,  0.0343,  ...,  0.0940,  0.5146,  0.6049],\n",
            "         [-0.2584,  0.4436,  0.7963,  ...,  0.0244,  0.3090,  0.7690],\n",
            "         [ 0.4610, -0.3986,  0.2908,  ...,  0.3469, -0.1381, -0.0023],\n",
            "         ...,\n",
            "         [ 0.4575,  0.0775,  0.7056,  ...,  0.0737, -0.1037,  0.2346],\n",
            "         [ 0.2644, -0.0421,  0.7823,  ..., -0.0911, -0.1165,  0.2872],\n",
            "         [ 0.2944, -0.0641,  0.4032,  ..., -0.0370, -0.0714, -0.1064]],\n",
            "\n",
            "        [[ 0.0788, -0.0436,  0.1540,  ...,  0.0353,  0.4016,  0.3319],\n",
            "         [ 0.6385, -0.3469,  0.1724,  ...,  0.0578,  0.7290,  0.3238],\n",
            "         [ 0.5753, -0.2607,  0.1477,  ...,  0.0885,  0.1234,  0.5477],\n",
            "         ...,\n",
            "         [ 0.5033,  0.0372, -0.1927,  ...,  0.0622, -0.1924,  0.1345],\n",
            "         [ 0.4986,  0.1904, -0.3546,  ...,  0.0590,  0.0686,  0.2909],\n",
            "         [ 0.1270,  0.0870, -0.2545,  ..., -0.3147, -0.1706, -0.0049]],\n",
            "\n",
            "        ...,\n",
            "\n",
            "        [[ 0.2818,  0.0581, -0.1360,  ..., -0.1384,  0.4843,  0.2285],\n",
            "         [ 0.4590,  0.3736, -0.2353,  ...,  0.3654,  0.9543,  0.0242],\n",
            "         [ 0.0693,  0.1990,  0.2827,  ..., -0.0595,  0.3916, -0.4140],\n",
            "         ...,\n",
            "         [ 0.4184, -0.0478,  0.1489,  ...,  0.0201, -0.2731, -0.4662],\n",
            "         [ 0.2306,  0.0944,  0.1779,  ..., -0.0638,  0.0477, -0.1676],\n",
            "         [-0.1646, -0.1237, -0.0715,  ..., -0.0543, -0.0502, -0.2183]],\n",
            "\n",
            "        [[ 0.0319,  0.0300,  0.0793,  ..., -0.1505,  0.2735,  0.2691],\n",
            "         [ 0.3236,  0.2242,  0.3837,  ..., -0.1833,  0.2580,  0.4253],\n",
            "         [-0.1989,  0.1623,  0.3515,  ..., -0.4598, -0.0696,  0.1511],\n",
            "         ...,\n",
            "         [ 0.1698, -0.0335,  0.1597,  ...,  0.0630, -0.0704, -0.0901],\n",
            "         [ 0.1714,  0.0290,  0.2575,  ...,  0.0523, -0.1420, -0.0849],\n",
            "         [ 0.2007,  0.0391,  0.2618,  ...,  0.0570, -0.1731, -0.0407]],\n",
            "\n",
            "        [[ 0.1281, -0.0755,  0.0461,  ...,  0.0032,  0.4896,  0.4364],\n",
            "         [ 0.2570,  0.3585, -0.1097,  ...,  0.1629,  0.6989, -0.1400],\n",
            "         [ 0.5951,  0.4545,  0.3523,  ..., -0.0717,  0.4625,  0.2244],\n",
            "         ...,\n",
            "         [ 0.0247, -0.2464,  0.0945,  ..., -0.1702,  0.1864,  0.1350],\n",
            "         [ 0.2093, -0.1568,  0.0295,  ..., -0.0678,  0.1760,  0.1767],\n",
            "         [ 0.0545, -0.1052,  0.2166,  ..., -0.0133,  0.0450,  0.2556]]])\n",
            "torch.Size([90, 83, 768])\n"
          ]
        }
      ]
    },
    {
      "cell_type": "code",
      "source": [
        "# #testing cos similarity for the encoding\n",
        "# testData = {\n",
        "#     \"id\": [1, 2, 3, 4],\n",
        "#     \"text\": [\n",
        "#         \"banana.\",\n",
        "#         \"grape.\",\n",
        "#         \"bill gates.\",\n",
        "#         \"elon mask.\"    ]\n",
        "# }\n",
        "# tD = pd.DataFrame(testData)\n",
        "# print(tD['text'])\n",
        "\n",
        "# # tokenize\n",
        "# tokenized = tD['text'].apply((lambda x: tokenizer.encode(x, add_special_tokens=True)))\n",
        "# print(\"Input Tweet: \",tD['text'][0])\n",
        "# print(\"Clean Tweet: \",preprocessTweet1(tD['text'][0]))\n",
        "# print(\"tokenize the tweet:\",tokenized[0])\n",
        "# #padding\n",
        "# #each tweet is represented as a list of tokens. add padding to make all the sentence to the max length so that BERT could process all at once.\n",
        "# max_len = 0\n",
        "# for i in tokenized.values:\n",
        "#     if len(i) > max_len:\n",
        "#         max_len = len(i)\n",
        "\n",
        "# padded = np.array([i + [0]*(max_len-len(i)) for i in tokenized.values])\n",
        "# # print(max_len, np.array(padded).shape)\n",
        "# #Masking the paddding\n",
        "# attention_mask = np.where(padded != 0, 1, 0)\n",
        "# attention_mask.shape\n",
        "# # print(padded)\n",
        "# #Use pretrained Bert model to word embedding all the sentences\n",
        "# input_ids = torch.tensor(padded)\n",
        "# attention_mask = torch.tensor(attention_mask)\n",
        "\n",
        "# with torch.no_grad():\n",
        "#     last_hidden_states = model(input_ids, attention_mask=attention_mask)\n",
        "\n",
        "# #Get the tensor dimension\n",
        "# # print(last_hidden_states[0])\n",
        "# print(last_hidden_states[0].size())\n",
        "# from sklearn.metrics.pairwise import cosine_similarity\n",
        "# fea = last_hidden_states[0][:,0,:].numpy()\n",
        "# fea\n",
        "# # newfea =np.array[fea]\n",
        "# # print(cosine_similarity(newfea[1],newfea[2]))\n",
        "# cosine_similarity([fea[3]],[fea[0]])"
      ],
      "metadata": {
        "colab": {
          "base_uri": "https://localhost:8080/"
        },
        "id": "wopZW_Jl4gc9",
        "outputId": "2e048dc7-f5f6-4879-bfa7-ebb37b0e9288"
      },
      "execution_count": null,
      "outputs": [
        {
          "output_type": "stream",
          "name": "stdout",
          "text": [
            "0        banana.\n",
            "1         grape.\n",
            "2    bill gates.\n",
            "3     elon mask.\n",
            "Name: text, dtype: object\n",
            "Input Tweet:  banana.\n",
            "Clean Tweet:  banana.\n",
            "tokenize the tweet: [101, 15212, 1012, 102]\n",
            "torch.Size([4, 6, 768])\n"
          ]
        },
        {
          "output_type": "execute_result",
          "data": {
            "text/plain": [
              "array([[0.9582989]], dtype=float32)"
            ]
          },
          "metadata": {},
          "execution_count": 116
        }
      ]
    },
    {
      "cell_type": "code",
      "execution_count": null,
      "metadata": {
        "colab": {
          "base_uri": "https://localhost:8080/"
        },
        "id": "iPmQu2cOWW8j",
        "outputId": "04e727c7-f0b0-4ab3-cda3-15c698378a0a"
      },
      "outputs": [
        {
          "output_type": "stream",
          "name": "stdout",
          "text": [
            "283 (300, 283)\n",
            "[  101  2619  1045  2293  2200  2172  2001 11441  2007  2522 17258  2539\n",
            "  2651  1012  3531  4929 15806  1010  9378  2115  2398  1998  2994  1996\n",
            " 17752  2185  2013  2169  2060  1012  3531  1012  2057  2024  2471  2045\n",
            "  1012   102     0     0     0     0     0     0     0     0     0     0\n",
            "     0     0     0     0     0     0     0     0     0     0     0     0\n",
            "     0     0     0     0     0     0     0     0     0     0     0     0\n",
            "     0     0     0     0     0     0     0     0     0     0     0     0\n",
            "     0     0     0     0     0     0     0     0     0     0     0     0\n",
            "     0     0     0     0     0     0     0     0     0     0     0     0\n",
            "     0     0     0     0     0     0     0     0     0     0     0     0\n",
            "     0     0     0     0     0     0     0     0     0     0     0     0\n",
            "     0     0     0     0     0     0     0     0     0     0     0     0\n",
            "     0     0     0     0     0     0     0     0     0     0     0     0\n",
            "     0     0     0     0     0     0     0     0     0     0     0     0\n",
            "     0     0     0     0     0     0     0     0     0     0     0     0\n",
            "     0     0     0     0     0     0     0     0     0     0     0     0\n",
            "     0     0     0     0     0     0     0     0     0     0     0     0\n",
            "     0     0     0     0     0     0     0     0     0     0     0     0\n",
            "     0     0     0     0     0     0     0     0     0     0     0     0\n",
            "     0     0     0     0     0     0     0     0     0     0     0     0\n",
            "     0     0     0     0     0     0     0     0     0     0     0     0\n",
            "     0     0     0     0     0     0     0     0     0     0     0     0\n",
            "     0     0     0     0     0     0     0     0     0     0     0     0\n",
            "     0     0     0     0     0     0     0]\n"
          ]
        }
      ],
      "source": [
        "# #padding\n",
        "# #each tweet is represented as a list of tokens. add padding to make all the sentence to the max length so that BERT could process all at once.\n",
        "# max_len = 0\n",
        "# for i in tokenized.values:\n",
        "#     if len(i) > max_len:\n",
        "#         max_len = len(i)\n",
        "\n",
        "# padded = np.array([i + [0]*(max_len-len(i)) for i in tokenized.values])\n",
        "# print(max_len, np.array(padded).shape)\n",
        "# print(padded[11])"
      ]
    },
    {
      "cell_type": "code",
      "execution_count": null,
      "metadata": {
        "colab": {
          "base_uri": "https://localhost:8080/"
        },
        "id": "B4RaijxgXJ-h",
        "outputId": "943cc9a8-5d0e-4621-cf4e-f5c3fce0fc90"
      },
      "outputs": [
        {
          "output_type": "stream",
          "name": "stdout",
          "text": [
            "[1 1 1 1 1 1 1 1 1 1 1 1 1 1 1 1 1 1 1 1 1 1 1 1 1 1 1 1 1 1 1 1 1 1 1 1 1\n",
            " 1 1 1 1 1 1 1 1 1 1 1 1 0 0 0 0 0 0 0 0 0 0 0 0 0 0 0 0 0 0 0 0 0 0 0 0 0\n",
            " 0 0 0 0 0 0 0 0 0 0 0 0 0 0 0 0 0 0 0 0 0 0 0 0 0 0 0 0 0 0 0 0 0 0 0 0 0\n",
            " 0 0 0 0 0 0 0 0 0 0 0 0 0 0 0 0 0 0 0 0 0 0 0 0 0 0 0 0 0 0 0 0 0 0 0 0 0\n",
            " 0 0 0 0 0 0 0 0 0 0 0 0 0 0 0 0 0 0 0 0 0 0 0 0 0 0 0 0 0 0 0 0 0 0 0 0 0\n",
            " 0 0 0 0 0 0 0 0 0 0 0 0 0 0 0 0 0 0 0 0 0 0 0 0 0 0 0 0 0 0 0 0 0 0 0 0 0\n",
            " 0 0 0 0 0 0 0 0 0 0 0 0 0 0 0 0 0 0 0 0 0 0 0 0 0 0 0 0 0 0 0 0 0 0 0 0 0\n",
            " 0 0 0 0 0 0 0 0 0 0 0 0 0 0 0 0 0 0 0 0 0 0 0 0]\n"
          ]
        }
      ],
      "source": [
        "# #Masking the paddding\n",
        "# attention_mask = np.where(padded != 0, 1, 0)\n",
        "# attention_mask.shape\n",
        "# print(attention_mask[10])"
      ]
    },
    {
      "cell_type": "code",
      "execution_count": null,
      "metadata": {
        "id": "Ae6CDNIqXWgh"
      },
      "outputs": [],
      "source": [
        "# #Use pretrained Bert model to word embedding all the sentences\n",
        "# input_ids = torch.tensor(padded)\n",
        "# attention_mask = torch.tensor(attention_mask)\n",
        "\n",
        "# with torch.no_grad():\n",
        "#     last_hidden_states = model(input_ids, attention_mask=attention_mask)\n",
        "\n"
      ]
    },
    {
      "cell_type": "code",
      "execution_count": null,
      "metadata": {
        "colab": {
          "base_uri": "https://localhost:8080/"
        },
        "id": "jcRdPmepY9q2",
        "outputId": "c2724dc3-44a7-45f4-bbd9-65895139b170"
      },
      "outputs": [
        {
          "output_type": "stream",
          "name": "stdout",
          "text": [
            "tensor([[[ 0.2829,  0.1567,  0.2272,  ..., -0.1869,  0.6070,  0.3700],\n",
            "         [ 0.6401, -0.0036,  0.4816,  ...,  0.0065,  0.3466,  0.0479],\n",
            "         [ 0.0592, -0.1083,  0.4402,  ..., -0.3974, -0.1379,  0.2461],\n",
            "         ...,\n",
            "         [ 0.5154,  0.2809,  0.0904,  ..., -0.2032,  0.3637,  0.0181],\n",
            "         [ 0.5656,  0.1848,  0.1909,  ..., -0.0981,  0.3749, -0.2579],\n",
            "         [ 0.4555,  0.0392,  0.1548,  ...,  0.0069,  0.2053, -0.0969]],\n",
            "\n",
            "        [[ 0.0924,  0.1797,  0.0927,  ..., -0.1305,  0.4414,  0.4691],\n",
            "         [ 0.4584,  0.1091,  0.2552,  ..., -0.0335,  0.4750,  0.5256],\n",
            "         [ 1.0446, -0.2030,  0.2586,  ..., -0.5464,  0.1183,  0.2701],\n",
            "         ...,\n",
            "         [ 0.1503,  0.1455,  0.2511,  ..., -0.0866, -0.1659,  0.2501],\n",
            "         [-0.0349,  0.2445,  0.2170,  ..., -0.1941,  0.0664,  0.1888],\n",
            "         [ 0.1751,  0.0580,  0.3602,  ..., -0.0849, -0.0144,  0.2471]],\n",
            "\n",
            "        [[-0.0798, -0.2039,  0.0721,  ..., -0.2190,  0.3414,  0.4212],\n",
            "         [ 0.4364, -0.1264,  0.3858,  ...,  0.0970,  0.2358,  0.0354],\n",
            "         [-0.3273, -0.1270,  0.2265,  ..., -0.1953, -0.0022, -0.2664],\n",
            "         ...,\n",
            "         [ 0.2023, -0.0830,  0.1278,  ..., -0.0393, -0.0223,  0.1079],\n",
            "         [ 0.1447,  0.0156,  0.1164,  ..., -0.1285,  0.0323,  0.1200],\n",
            "         [ 0.1698, -0.0073,  0.1434,  ...,  0.0421, -0.0076,  0.1020]],\n",
            "\n",
            "        ...,\n",
            "\n",
            "        [[ 0.1181, -0.0021,  0.0218,  ..., -0.0425,  0.4046,  0.3315],\n",
            "         [ 0.6723,  0.0713,  0.6078,  ...,  0.2160,  0.2592,  0.2123],\n",
            "         [ 0.2950,  0.0175,  0.5476,  ..., -0.2080,  0.1265, -0.0085],\n",
            "         ...,\n",
            "         [ 0.3436,  0.0306,  0.3012,  ..., -0.0785,  0.1056,  0.0161],\n",
            "         [ 0.3160,  0.0724,  0.3400,  ..., -0.0207,  0.1385, -0.0834],\n",
            "         [ 0.3421,  0.0501,  0.2777,  ...,  0.0712,  0.1684, -0.1614]],\n",
            "\n",
            "        [[-0.0189, -0.0697,  0.2397,  ..., -0.0229,  0.2802,  0.5317],\n",
            "         [ 0.5575, -0.1381,  0.3553,  ...,  0.1201,  0.2731,  0.2933],\n",
            "         [-0.2264, -0.0485,  0.3676,  ..., -0.0497,  0.2891,  0.6862],\n",
            "         ...,\n",
            "         [-0.3257, -0.2192,  0.3175,  ...,  0.0092, -0.3679,  0.0902],\n",
            "         [ 0.0320, -0.1928,  0.2686,  ..., -0.0251, -0.3607, -0.1346],\n",
            "         [ 0.3177, -0.1605,  0.4972,  ...,  0.0349, -0.0639,  0.0183]],\n",
            "\n",
            "        [[ 0.1575,  0.0510, -0.1203,  ..., -0.0161,  0.3426,  0.4386],\n",
            "         [-0.0899,  0.1620, -0.2987,  ...,  0.1594,  0.5010,  0.5871],\n",
            "         [ 0.8608, -0.3402, -0.0185,  ...,  0.1713,  0.6252,  0.5448],\n",
            "         ...,\n",
            "         [ 0.4205, -0.0122, -0.2061,  ..., -0.2170,  0.0538, -0.0243],\n",
            "         [ 0.2425,  0.0178, -0.1084,  ..., -0.3008,  0.1426, -0.0192],\n",
            "         [ 0.2982, -0.0897, -0.0497,  ..., -0.1669,  0.1114,  0.0491]]])\n",
            "torch.Size([300, 283, 768])\n"
          ]
        }
      ],
      "source": [
        "# #Get the tensor dimension\n",
        "# print(last_hidden_states[0])\n",
        "# print(last_hidden_states[0].size())\n",
        "# #first position is [CLS] token.\n",
        "# features = last_hidden_states[0][:,0,:].numpy()\n",
        "# print(features)\n",
        "# print(features.shape)"
      ]
    },
    {
      "cell_type": "code",
      "execution_count": 218,
      "metadata": {
        "colab": {
          "base_uri": "https://localhost:8080/"
        },
        "id": "26iwiPAgcJ2o",
        "outputId": "453097aa-54ee-4fc1-9006-60d8f70d8ce6"
      },
      "outputs": [
        {
          "output_type": "stream",
          "name": "stdout",
          "text": [
            "Original 3D tensor shape: torch.Size([90, 83, 768])\n",
            "Converted 2D tensor shape: (90, 63744)\n",
            "features dimension: (90, 63744)\n",
            "label dimension: (90,)\n",
            "training feature dimension (72, 63744)\n",
            "testing feature dimension (18, 63744)\n",
            "training label dimension (72,)\n",
            "training label dimension (18,)\n"
          ]
        }
      ],
      "source": [
        "#first position is [CLS] token.\n",
        "#convert 3D tensor to 2D tensor\n",
        "tensor_3d = last_hidden_states[0]\n",
        "\n",
        "# Convert 3D tensor to 2D tensor\n",
        "tensor_2d = tensor_3d.reshape(tensor_3d.shape[0], -1).numpy()\n",
        "\n",
        "print(\"Original 3D tensor shape:\", tensor_3d.shape)\n",
        "print(\"Converted 2D tensor shape:\", tensor_2d.shape)\n",
        "# print(tensor_2d)\n",
        "features = tensor_2d\n",
        "print(\"features dimension:\",features.shape)\n",
        "\n",
        "#label indicating which sentence is positive and negative.\n",
        "labels = t_batch_balanced['label']\n",
        "# print(labels)\n",
        "print(\"label dimension:\",labels.shape)\n",
        "\n",
        "#use classification models\n",
        "\n",
        "train_features, test_features, train_labels, test_labels = train_test_split(features, labels,  test_size=0.2, random_state=42)\n",
        "print(\"training feature dimension\",train_features.shape)\n",
        "print(\"testing feature dimension\",test_features.shape)\n",
        "print(\"training label dimension\",train_labels.shape)\n",
        "print(\"training label dimension\",test_labels.shape)\n"
      ]
    },
    {
      "cell_type": "code",
      "execution_count": null,
      "metadata": {
        "colab": {
          "base_uri": "https://localhost:8080/"
        },
        "id": "mTLKDDTIeS7e",
        "outputId": "99929252-c644-4d4d-850e-cd82c4d625f4"
      },
      "outputs": [
        {
          "output_type": "stream",
          "name": "stdout",
          "text": [
            "(240, 768)\n",
            "(60, 768)\n",
            "(240,)\n",
            "(60,)\n"
          ]
        }
      ],
      "source": [
        "# #split the training and testing data\n",
        "# #240 tweets as training; 60 tweets as testing\n",
        "# train_features, test_features, train_labels, test_labels = train_test_split(features, labels,  test_size=0.2, random_state=42)\n",
        "# print(train_features.shape)\n",
        "# print(test_features.shape)\n",
        "# print(train_labels.shape)\n",
        "# print(test_labels.shape)\n"
      ]
    },
    {
      "cell_type": "code",
      "execution_count": 219,
      "metadata": {
        "colab": {
          "base_uri": "https://localhost:8080/"
        },
        "id": "7b2bq7H6f60D",
        "outputId": "ddc3c2d5-d228-4e0a-fdca-95da1f74ace3"
      },
      "outputs": [
        {
          "output_type": "stream",
          "name": "stdout",
          "text": [
            "best parameters:  {'C': 5.263252631578947}\n",
            "best scrores:  0.7219047619047619\n"
          ]
        }
      ],
      "source": [
        "#refine parameters for logisticRegression model\n",
        "parameters = {'C': np.linspace(0.0001, 100, 20)}\n",
        "grid_search = GridSearchCV(LogisticRegression(), parameters)\n",
        "grid_search.fit(train_features, train_labels)\n",
        "\n",
        "print('best parameters: ', grid_search.best_params_)\n",
        "print('best scrores: ', grid_search.best_score_)"
      ]
    },
    {
      "cell_type": "code",
      "execution_count": 220,
      "metadata": {
        "colab": {
          "base_uri": "https://localhost:8080/",
          "height": 75
        },
        "id": "BT2sPgYrgdET",
        "outputId": "1c58eeeb-481f-421c-a5e5-727e235a9e88"
      },
      "outputs": [
        {
          "output_type": "execute_result",
          "data": {
            "text/plain": [
              "LogisticRegression(C=5.2)"
            ],
            "text/html": [
              "<style>#sk-container-id-2 {color: black;background-color: white;}#sk-container-id-2 pre{padding: 0;}#sk-container-id-2 div.sk-toggleable {background-color: white;}#sk-container-id-2 label.sk-toggleable__label {cursor: pointer;display: block;width: 100%;margin-bottom: 0;padding: 0.3em;box-sizing: border-box;text-align: center;}#sk-container-id-2 label.sk-toggleable__label-arrow:before {content: \"▸\";float: left;margin-right: 0.25em;color: #696969;}#sk-container-id-2 label.sk-toggleable__label-arrow:hover:before {color: black;}#sk-container-id-2 div.sk-estimator:hover label.sk-toggleable__label-arrow:before {color: black;}#sk-container-id-2 div.sk-toggleable__content {max-height: 0;max-width: 0;overflow: hidden;text-align: left;background-color: #f0f8ff;}#sk-container-id-2 div.sk-toggleable__content pre {margin: 0.2em;color: black;border-radius: 0.25em;background-color: #f0f8ff;}#sk-container-id-2 input.sk-toggleable__control:checked~div.sk-toggleable__content {max-height: 200px;max-width: 100%;overflow: auto;}#sk-container-id-2 input.sk-toggleable__control:checked~label.sk-toggleable__label-arrow:before {content: \"▾\";}#sk-container-id-2 div.sk-estimator input.sk-toggleable__control:checked~label.sk-toggleable__label {background-color: #d4ebff;}#sk-container-id-2 div.sk-label input.sk-toggleable__control:checked~label.sk-toggleable__label {background-color: #d4ebff;}#sk-container-id-2 input.sk-hidden--visually {border: 0;clip: rect(1px 1px 1px 1px);clip: rect(1px, 1px, 1px, 1px);height: 1px;margin: -1px;overflow: hidden;padding: 0;position: absolute;width: 1px;}#sk-container-id-2 div.sk-estimator {font-family: monospace;background-color: #f0f8ff;border: 1px dotted black;border-radius: 0.25em;box-sizing: border-box;margin-bottom: 0.5em;}#sk-container-id-2 div.sk-estimator:hover {background-color: #d4ebff;}#sk-container-id-2 div.sk-parallel-item::after {content: \"\";width: 100%;border-bottom: 1px solid gray;flex-grow: 1;}#sk-container-id-2 div.sk-label:hover label.sk-toggleable__label {background-color: #d4ebff;}#sk-container-id-2 div.sk-serial::before {content: \"\";position: absolute;border-left: 1px solid gray;box-sizing: border-box;top: 0;bottom: 0;left: 50%;z-index: 0;}#sk-container-id-2 div.sk-serial {display: flex;flex-direction: column;align-items: center;background-color: white;padding-right: 0.2em;padding-left: 0.2em;position: relative;}#sk-container-id-2 div.sk-item {position: relative;z-index: 1;}#sk-container-id-2 div.sk-parallel {display: flex;align-items: stretch;justify-content: center;background-color: white;position: relative;}#sk-container-id-2 div.sk-item::before, #sk-container-id-2 div.sk-parallel-item::before {content: \"\";position: absolute;border-left: 1px solid gray;box-sizing: border-box;top: 0;bottom: 0;left: 50%;z-index: -1;}#sk-container-id-2 div.sk-parallel-item {display: flex;flex-direction: column;z-index: 1;position: relative;background-color: white;}#sk-container-id-2 div.sk-parallel-item:first-child::after {align-self: flex-end;width: 50%;}#sk-container-id-2 div.sk-parallel-item:last-child::after {align-self: flex-start;width: 50%;}#sk-container-id-2 div.sk-parallel-item:only-child::after {width: 0;}#sk-container-id-2 div.sk-dashed-wrapped {border: 1px dashed gray;margin: 0 0.4em 0.5em 0.4em;box-sizing: border-box;padding-bottom: 0.4em;background-color: white;}#sk-container-id-2 div.sk-label label {font-family: monospace;font-weight: bold;display: inline-block;line-height: 1.2em;}#sk-container-id-2 div.sk-label-container {text-align: center;}#sk-container-id-2 div.sk-container {/* jupyter's `normalize.less` sets `[hidden] { display: none; }` but bootstrap.min.css set `[hidden] { display: none !important; }` so we also need the `!important` here to be able to override the default hidden behavior on the sphinx rendered scikit-learn.org. See: https://github.com/scikit-learn/scikit-learn/issues/21755 */display: inline-block !important;position: relative;}#sk-container-id-2 div.sk-text-repr-fallback {display: none;}</style><div id=\"sk-container-id-2\" class=\"sk-top-container\"><div class=\"sk-text-repr-fallback\"><pre>LogisticRegression(C=5.2)</pre><b>In a Jupyter environment, please rerun this cell to show the HTML representation or trust the notebook. <br />On GitHub, the HTML representation is unable to render, please try loading this page with nbviewer.org.</b></div><div class=\"sk-container\" hidden><div class=\"sk-item\"><div class=\"sk-estimator sk-toggleable\"><input class=\"sk-toggleable__control sk-hidden--visually\" id=\"sk-estimator-id-2\" type=\"checkbox\" checked><label for=\"sk-estimator-id-2\" class=\"sk-toggleable__label sk-toggleable__label-arrow\">LogisticRegression</label><div class=\"sk-toggleable__content\"><pre>LogisticRegression(C=5.2)</pre></div></div></div></div></div>"
            ]
          },
          "metadata": {},
          "execution_count": 220
        }
      ],
      "source": [
        "lr_clf = LogisticRegression(C=5.2)\n",
        "lr_clf.fit(train_features, train_labels)"
      ]
    },
    {
      "cell_type": "code",
      "execution_count": 221,
      "metadata": {
        "colab": {
          "base_uri": "https://localhost:8080/"
        },
        "id": "UcwvMtrhg4Kx",
        "outputId": "2767e25b-9876-40fe-87e6-f9dfa6f830d0"
      },
      "outputs": [
        {
          "output_type": "execute_result",
          "data": {
            "text/plain": [
              "0.8888888888888888"
            ]
          },
          "metadata": {},
          "execution_count": 221
        }
      ],
      "source": [
        "lr_clf.score(test_features, test_labels)"
      ]
    },
    {
      "cell_type": "code",
      "source": [
        "lr_clf.score(train_features, train_labels)"
      ],
      "metadata": {
        "colab": {
          "base_uri": "https://localhost:8080/"
        },
        "id": "OJj3LgqgAgUb",
        "outputId": "71145f96-347f-412d-839c-1a8a1cbe5317"
      },
      "execution_count": 222,
      "outputs": [
        {
          "output_type": "execute_result",
          "data": {
            "text/plain": [
              "1.0"
            ]
          },
          "metadata": {},
          "execution_count": 222
        }
      ]
    },
    {
      "cell_type": "code",
      "source": [
        "from sklearn.metrics import precision_recall_curve, accuracy_score, f1_score\n",
        "\n",
        "predict_test_labels = lr_clf.predict(test_features)\n",
        "precision = precision_score(test_labels, predict_test_labels)\n",
        "recall = recall_score(test_labels, predict_test_labels)\n",
        "accuracy =accuracy_score (test_labels, predict_test_labels)\n",
        "f1 = f1_score(test_labels, predict_test_labels)\n",
        "\n",
        "\n",
        "print(\"Precision: \", precision)\n",
        "print(\"Recall: \", recall)\n",
        "print(\"accuracy:\",accuracy)\n",
        "print(\"F1:\",accuracy)\n",
        "\n",
        "precision, recall , thresholds = precision_recall_curve(test_labels, predict_test_labels)\n",
        "thresholds"
      ],
      "metadata": {
        "colab": {
          "base_uri": "https://localhost:8080/"
        },
        "id": "a797m5PD7wIr",
        "outputId": "1e336043-2893-4e6d-e04a-a5df88552dd7"
      },
      "execution_count": 223,
      "outputs": [
        {
          "output_type": "stream",
          "name": "stdout",
          "text": [
            "Precision:  1.0\n",
            "Recall:  0.8333333333333334\n",
            "accuracy: 0.8888888888888888\n",
            "F1: 0.8888888888888888\n"
          ]
        },
        {
          "output_type": "execute_result",
          "data": {
            "text/plain": [
              "array([0, 1])"
            ]
          },
          "metadata": {},
          "execution_count": 223
        }
      ]
    },
    {
      "cell_type": "code",
      "source": [
        "# print(test_labels.shape)\n",
        "# print(predict_test_labels.shape)\n",
        "tp = np.sum((predict_test_labels == 1) & (test_labels == 1))\n",
        "tn = np.sum((predict_test_labels == 0) & (test_labels == 0))\n",
        "fp = np.sum((predict_test_labels == 0) & (test_labels == 1))\n",
        "fn = np.sum((predict_test_labels == 1) & (test_labels == 0))\n",
        "\n",
        "\n",
        "print(test_labels)\n",
        "print(predict_test_labels)\n",
        "print(\"tp:\",tp,\"tn:\",tn,\"fp:\",fp,\"fn:\",fn)"
      ],
      "metadata": {
        "colab": {
          "base_uri": "https://localhost:8080/"
        },
        "id": "4LCaAQPUUmwf",
        "outputId": "29831a29-d261-4308-adeb-5cec0b8c2158"
      },
      "execution_count": 242,
      "outputs": [
        {
          "output_type": "stream",
          "name": "stdout",
          "text": [
            "282    1\n",
            "148    1\n",
            "124    0\n",
            "31     0\n",
            "6      1\n",
            "187    1\n",
            "280    1\n",
            "63     0\n",
            "60     1\n",
            "299    1\n",
            "201    0\n",
            "241    1\n",
            "145    0\n",
            "151    0\n",
            "70     1\n",
            "22     1\n",
            "121    1\n",
            "197    1\n",
            "Name: label, dtype: int64\n",
            "[1 0 0 0 1 1 0 0 1 1 0 1 0 0 1 1 1 1]\n",
            "tp: 10 tn: 6 fp: 2 fn: 0\n"
          ]
        }
      ]
    },
    {
      "cell_type": "code",
      "source": [
        "#test code with neural network\n",
        "import torch\n",
        "from transformers import BertTokenizer, BertModel\n",
        "import torch.nn as nn\n",
        "\n",
        "# Load pre-trained BERT model and tokenizer\n",
        "bert_model = BertModel.from_pretrained('bert-base-uncased')\n",
        "tokenizer = BertTokenizer.from_pretrained('bert-base-uncased')\n",
        "\n",
        "# Input text\n",
        "text = \"Hello, how are you?\"\n",
        "\n",
        "# Tokenize and encode text\n",
        "inputs = tokenizer(text, return_tensors='pt', padding=True, truncation=True)\n",
        "input_ids = inputs['input_ids']\n",
        "\n",
        "# Get BERT embeddings\n",
        "with torch.no_grad():\n",
        "    bert_output = bert_model(input_ids)\n",
        "\n",
        "# Extract embeddings\n",
        "bert_embeddings = bert_output.last_hidden_state\n",
        "print(bert_embeddings.shape)\n",
        "tensor_3dbert = bert_embeddings\n",
        "\n",
        "# Convert 3D tensor to 2D tensor\n",
        "tensor_2dbert = tensor_3dbert.reshape(tensor_3dbert.shape[0], -1).numpy()\n",
        "print(tensor_2dbert.shape)\n",
        "# Define a simple neural network\n",
        "class NeuralNetwork(nn.Module):\n",
        "    def __init__(self, input_size, hidden_size, output_size):\n",
        "        super(NeuralNetwork, self).__init__()\n",
        "        self.fc1 = nn.Linear(input_size, hidden_size)\n",
        "        self.fc2 = nn.Linear(hidden_size, output_size)\n",
        "\n",
        "    def forward(self, x):\n",
        "        x = self.fc1(x)\n",
        "        x = self.fc2(x)\n",
        "        return x\n",
        "\n",
        "# Instantiate the neural network\n",
        "input_size = bert_embeddings.shape[2]  # BERT embedding size\n",
        "hidden_size = 64\n",
        "output_size = 2  # Example: binary classification\n",
        "\n",
        "net = NeuralNetwork(input_size, hidden_size, output_size)\n",
        "\n",
        "# Use BERT embeddings as input to the neural network\n",
        "output = net(bert_embeddings)\n",
        "print(output.shape)\n"
      ],
      "metadata": {
        "colab": {
          "base_uri": "https://localhost:8080/"
        },
        "id": "FvlCjow9XwHP",
        "outputId": "7c072659-e2ae-420f-9d15-9c2a956cbbc3"
      },
      "execution_count": 247,
      "outputs": [
        {
          "output_type": "stream",
          "name": "stdout",
          "text": [
            "torch.Size([1, 8, 768])\n",
            "(1, 6144)\n",
            "torch.Size([1, 8, 2])\n"
          ]
        }
      ]
    },
    {
      "cell_type": "code",
      "execution_count": null,
      "metadata": {
        "colab": {
          "base_uri": "https://localhost:8080/"
        },
        "id": "yPEV9qtdhbGh",
        "outputId": "f2765f46-d271-471f-e498-901906c14565"
      },
      "outputs": [
        {
          "output_type": "stream",
          "name": "stdout",
          "text": [
            "Dummy classifier score: 0.846 (+/- 0.02)\n"
          ]
        }
      ],
      "source": [
        "from sklearn.dummy import DummyClassifier\n",
        "clf = DummyClassifier()\n",
        "\n",
        "scores = cross_val_score(clf, train_features, train_labels)\n",
        "print(\"Dummy classifier score: %0.3f (+/- %0.2f)\" % (scores.mean(), scores.std() * 2))"
      ]
    },
    {
      "cell_type": "code",
      "source": [
        "from transformers import pipeline\n",
        "print(pipeline('sentiment-analysis')('I hate you'))\n"
      ],
      "metadata": {
        "colab": {
          "base_uri": "https://localhost:8080/",
          "height": 232,
          "referenced_widgets": [
            "b3ff75a1003b403dbe2a21de6b1d9d24",
            "c9b0ff8202fb4e398bbda2870d5f05ea",
            "d9663b5ab4f54b889bcce4d99b6defaf",
            "781ac1cd6b6a4188aa180d415804333a",
            "1899ed9edc1a4a5d9a346a06ee711593",
            "b686cc7ceab1412b95c43478658a2279",
            "85fa4eef6eea4fcc85010a604d31e885",
            "2fba5120925849b8b82a8fd10ceb6bc2",
            "1e5a6e029101405082ff86547fe61445",
            "7c1510f6416247c6bd4fb28da25db980",
            "2502f13a0d8546bdad7d0dbf5f91fda2",
            "97d86d20c1634706b8406cb50e0c3dda",
            "7b290095ac6e486f9e4ddc687d8341c2",
            "225df8a547744ee4a42b0804d2a1b8cc",
            "ebfb784386e24358a63ceec5c15264d6",
            "8af5b0b835fb47b39209a9e083a03f43",
            "2149baa8f83f413395d29a0ff3291c01",
            "c7394b4a40e3497d817af45a17fc012e",
            "46abaea57ee64114adce6ad97b8994c9",
            "fd8dbf3249d54e538b7a07e7d7d90d98",
            "4d466ecff2584868b65991838a08fa1c",
            "a8db697f409e4630b8cb6a1d9945f538",
            "7242d1f914cd45a08dd5516165bbdeaf",
            "820a70d4e45b4f78a45c4d219bc71433",
            "aac045d05e7b4745855de1d7a45bfc49",
            "9dd68147ffed433989d5343326fbc5ad",
            "2e2a01340c7e481cb85fa7ca23518a9f",
            "7b70d12b2ac34cd9b111b703b4b3d742",
            "6dfa3aa9b6bc4b948eb0577e2f35a97f",
            "f7f5a9f886744fc39071ed42a6eaf7f3",
            "6129610722a246e59b813bf1fa445d65",
            "25b70b21e8be40ff8e044d2ac74f5b51",
            "d5e8e7ed85644263ba37f24fb593bf15",
            "7335307449a54fbe8101abea2a794535",
            "1d67adabf9824c1481ba588b368377ee",
            "d76f72db55374d918dd919bd2f1a51dc",
            "e3714488191943fc81ca4d5957661092",
            "e2e22d253c1246f8893c45318d9dbcc2",
            "6ab7f311e3ad446a8f153413357a0f13",
            "6cd4bcf52d7c40f7b090f39c1c964282",
            "b0ba5a78ceb8416ea634ad73c32bed83",
            "ab25c8cb9d3a46109d4f73d5d6878e82",
            "5f25e9dc6f654b83a4ef88222a8d96c9",
            "1a82fe0152604e008926ddb744131510"
          ]
        },
        "id": "aLmBn6OiXuND",
        "outputId": "5b4a4a20-e275-40d6-8bab-e1baa533fabd"
      },
      "execution_count": null,
      "outputs": [
        {
          "output_type": "stream",
          "name": "stderr",
          "text": [
            "No model was supplied, defaulted to distilbert-base-uncased-finetuned-sst-2-english and revision af0f99b (https://huggingface.co/distilbert-base-uncased-finetuned-sst-2-english).\n",
            "Using a pipeline without specifying a model name and revision in production is not recommended.\n"
          ]
        },
        {
          "output_type": "display_data",
          "data": {
            "text/plain": [
              "Downloading (…)lve/main/config.json:   0%|          | 0.00/629 [00:00<?, ?B/s]"
            ],
            "application/vnd.jupyter.widget-view+json": {
              "version_major": 2,
              "version_minor": 0,
              "model_id": "b3ff75a1003b403dbe2a21de6b1d9d24"
            }
          },
          "metadata": {}
        },
        {
          "output_type": "display_data",
          "data": {
            "text/plain": [
              "Downloading model.safetensors:   0%|          | 0.00/268M [00:00<?, ?B/s]"
            ],
            "application/vnd.jupyter.widget-view+json": {
              "version_major": 2,
              "version_minor": 0,
              "model_id": "97d86d20c1634706b8406cb50e0c3dda"
            }
          },
          "metadata": {}
        },
        {
          "output_type": "display_data",
          "data": {
            "text/plain": [
              "Downloading (…)okenizer_config.json:   0%|          | 0.00/48.0 [00:00<?, ?B/s]"
            ],
            "application/vnd.jupyter.widget-view+json": {
              "version_major": 2,
              "version_minor": 0,
              "model_id": "7242d1f914cd45a08dd5516165bbdeaf"
            }
          },
          "metadata": {}
        },
        {
          "output_type": "display_data",
          "data": {
            "text/plain": [
              "Downloading (…)solve/main/vocab.txt:   0%|          | 0.00/232k [00:00<?, ?B/s]"
            ],
            "application/vnd.jupyter.widget-view+json": {
              "version_major": 2,
              "version_minor": 0,
              "model_id": "7335307449a54fbe8101abea2a794535"
            }
          },
          "metadata": {}
        },
        {
          "output_type": "stream",
          "name": "stderr",
          "text": [
            "Xformers is not installed correctly. If you want to use memory_efficient_attention to accelerate training use the following command to install Xformers\n",
            "pip install xformers.\n"
          ]
        },
        {
          "output_type": "stream",
          "name": "stdout",
          "text": [
            "[{'label': 'NEGATIVE', 'score': 0.9991129040718079}]\n"
          ]
        }
      ]
    }
  ],
  "metadata": {
    "accelerator": "GPU",
    "colab": {
      "provenance": [],
      "gpuType": "T4"
    },
    "kernelspec": {
      "display_name": "Python 3",
      "name": "python3"
    },
    "language_info": {
      "name": "python"
    },
    "widgets": {
      "application/vnd.jupyter.widget-state+json": {
        "b3ff75a1003b403dbe2a21de6b1d9d24": {
          "model_module": "@jupyter-widgets/controls",
          "model_name": "HBoxModel",
          "model_module_version": "1.5.0",
          "state": {
            "_dom_classes": [],
            "_model_module": "@jupyter-widgets/controls",
            "_model_module_version": "1.5.0",
            "_model_name": "HBoxModel",
            "_view_count": null,
            "_view_module": "@jupyter-widgets/controls",
            "_view_module_version": "1.5.0",
            "_view_name": "HBoxView",
            "box_style": "",
            "children": [
              "IPY_MODEL_c9b0ff8202fb4e398bbda2870d5f05ea",
              "IPY_MODEL_d9663b5ab4f54b889bcce4d99b6defaf",
              "IPY_MODEL_781ac1cd6b6a4188aa180d415804333a"
            ],
            "layout": "IPY_MODEL_1899ed9edc1a4a5d9a346a06ee711593"
          }
        },
        "c9b0ff8202fb4e398bbda2870d5f05ea": {
          "model_module": "@jupyter-widgets/controls",
          "model_name": "HTMLModel",
          "model_module_version": "1.5.0",
          "state": {
            "_dom_classes": [],
            "_model_module": "@jupyter-widgets/controls",
            "_model_module_version": "1.5.0",
            "_model_name": "HTMLModel",
            "_view_count": null,
            "_view_module": "@jupyter-widgets/controls",
            "_view_module_version": "1.5.0",
            "_view_name": "HTMLView",
            "description": "",
            "description_tooltip": null,
            "layout": "IPY_MODEL_b686cc7ceab1412b95c43478658a2279",
            "placeholder": "​",
            "style": "IPY_MODEL_85fa4eef6eea4fcc85010a604d31e885",
            "value": "Downloading (…)lve/main/config.json: 100%"
          }
        },
        "d9663b5ab4f54b889bcce4d99b6defaf": {
          "model_module": "@jupyter-widgets/controls",
          "model_name": "FloatProgressModel",
          "model_module_version": "1.5.0",
          "state": {
            "_dom_classes": [],
            "_model_module": "@jupyter-widgets/controls",
            "_model_module_version": "1.5.0",
            "_model_name": "FloatProgressModel",
            "_view_count": null,
            "_view_module": "@jupyter-widgets/controls",
            "_view_module_version": "1.5.0",
            "_view_name": "ProgressView",
            "bar_style": "success",
            "description": "",
            "description_tooltip": null,
            "layout": "IPY_MODEL_2fba5120925849b8b82a8fd10ceb6bc2",
            "max": 629,
            "min": 0,
            "orientation": "horizontal",
            "style": "IPY_MODEL_1e5a6e029101405082ff86547fe61445",
            "value": 629
          }
        },
        "781ac1cd6b6a4188aa180d415804333a": {
          "model_module": "@jupyter-widgets/controls",
          "model_name": "HTMLModel",
          "model_module_version": "1.5.0",
          "state": {
            "_dom_classes": [],
            "_model_module": "@jupyter-widgets/controls",
            "_model_module_version": "1.5.0",
            "_model_name": "HTMLModel",
            "_view_count": null,
            "_view_module": "@jupyter-widgets/controls",
            "_view_module_version": "1.5.0",
            "_view_name": "HTMLView",
            "description": "",
            "description_tooltip": null,
            "layout": "IPY_MODEL_7c1510f6416247c6bd4fb28da25db980",
            "placeholder": "​",
            "style": "IPY_MODEL_2502f13a0d8546bdad7d0dbf5f91fda2",
            "value": " 629/629 [00:00&lt;00:00, 23.3kB/s]"
          }
        },
        "1899ed9edc1a4a5d9a346a06ee711593": {
          "model_module": "@jupyter-widgets/base",
          "model_name": "LayoutModel",
          "model_module_version": "1.2.0",
          "state": {
            "_model_module": "@jupyter-widgets/base",
            "_model_module_version": "1.2.0",
            "_model_name": "LayoutModel",
            "_view_count": null,
            "_view_module": "@jupyter-widgets/base",
            "_view_module_version": "1.2.0",
            "_view_name": "LayoutView",
            "align_content": null,
            "align_items": null,
            "align_self": null,
            "border": null,
            "bottom": null,
            "display": null,
            "flex": null,
            "flex_flow": null,
            "grid_area": null,
            "grid_auto_columns": null,
            "grid_auto_flow": null,
            "grid_auto_rows": null,
            "grid_column": null,
            "grid_gap": null,
            "grid_row": null,
            "grid_template_areas": null,
            "grid_template_columns": null,
            "grid_template_rows": null,
            "height": null,
            "justify_content": null,
            "justify_items": null,
            "left": null,
            "margin": null,
            "max_height": null,
            "max_width": null,
            "min_height": null,
            "min_width": null,
            "object_fit": null,
            "object_position": null,
            "order": null,
            "overflow": null,
            "overflow_x": null,
            "overflow_y": null,
            "padding": null,
            "right": null,
            "top": null,
            "visibility": null,
            "width": null
          }
        },
        "b686cc7ceab1412b95c43478658a2279": {
          "model_module": "@jupyter-widgets/base",
          "model_name": "LayoutModel",
          "model_module_version": "1.2.0",
          "state": {
            "_model_module": "@jupyter-widgets/base",
            "_model_module_version": "1.2.0",
            "_model_name": "LayoutModel",
            "_view_count": null,
            "_view_module": "@jupyter-widgets/base",
            "_view_module_version": "1.2.0",
            "_view_name": "LayoutView",
            "align_content": null,
            "align_items": null,
            "align_self": null,
            "border": null,
            "bottom": null,
            "display": null,
            "flex": null,
            "flex_flow": null,
            "grid_area": null,
            "grid_auto_columns": null,
            "grid_auto_flow": null,
            "grid_auto_rows": null,
            "grid_column": null,
            "grid_gap": null,
            "grid_row": null,
            "grid_template_areas": null,
            "grid_template_columns": null,
            "grid_template_rows": null,
            "height": null,
            "justify_content": null,
            "justify_items": null,
            "left": null,
            "margin": null,
            "max_height": null,
            "max_width": null,
            "min_height": null,
            "min_width": null,
            "object_fit": null,
            "object_position": null,
            "order": null,
            "overflow": null,
            "overflow_x": null,
            "overflow_y": null,
            "padding": null,
            "right": null,
            "top": null,
            "visibility": null,
            "width": null
          }
        },
        "85fa4eef6eea4fcc85010a604d31e885": {
          "model_module": "@jupyter-widgets/controls",
          "model_name": "DescriptionStyleModel",
          "model_module_version": "1.5.0",
          "state": {
            "_model_module": "@jupyter-widgets/controls",
            "_model_module_version": "1.5.0",
            "_model_name": "DescriptionStyleModel",
            "_view_count": null,
            "_view_module": "@jupyter-widgets/base",
            "_view_module_version": "1.2.0",
            "_view_name": "StyleView",
            "description_width": ""
          }
        },
        "2fba5120925849b8b82a8fd10ceb6bc2": {
          "model_module": "@jupyter-widgets/base",
          "model_name": "LayoutModel",
          "model_module_version": "1.2.0",
          "state": {
            "_model_module": "@jupyter-widgets/base",
            "_model_module_version": "1.2.0",
            "_model_name": "LayoutModel",
            "_view_count": null,
            "_view_module": "@jupyter-widgets/base",
            "_view_module_version": "1.2.0",
            "_view_name": "LayoutView",
            "align_content": null,
            "align_items": null,
            "align_self": null,
            "border": null,
            "bottom": null,
            "display": null,
            "flex": null,
            "flex_flow": null,
            "grid_area": null,
            "grid_auto_columns": null,
            "grid_auto_flow": null,
            "grid_auto_rows": null,
            "grid_column": null,
            "grid_gap": null,
            "grid_row": null,
            "grid_template_areas": null,
            "grid_template_columns": null,
            "grid_template_rows": null,
            "height": null,
            "justify_content": null,
            "justify_items": null,
            "left": null,
            "margin": null,
            "max_height": null,
            "max_width": null,
            "min_height": null,
            "min_width": null,
            "object_fit": null,
            "object_position": null,
            "order": null,
            "overflow": null,
            "overflow_x": null,
            "overflow_y": null,
            "padding": null,
            "right": null,
            "top": null,
            "visibility": null,
            "width": null
          }
        },
        "1e5a6e029101405082ff86547fe61445": {
          "model_module": "@jupyter-widgets/controls",
          "model_name": "ProgressStyleModel",
          "model_module_version": "1.5.0",
          "state": {
            "_model_module": "@jupyter-widgets/controls",
            "_model_module_version": "1.5.0",
            "_model_name": "ProgressStyleModel",
            "_view_count": null,
            "_view_module": "@jupyter-widgets/base",
            "_view_module_version": "1.2.0",
            "_view_name": "StyleView",
            "bar_color": null,
            "description_width": ""
          }
        },
        "7c1510f6416247c6bd4fb28da25db980": {
          "model_module": "@jupyter-widgets/base",
          "model_name": "LayoutModel",
          "model_module_version": "1.2.0",
          "state": {
            "_model_module": "@jupyter-widgets/base",
            "_model_module_version": "1.2.0",
            "_model_name": "LayoutModel",
            "_view_count": null,
            "_view_module": "@jupyter-widgets/base",
            "_view_module_version": "1.2.0",
            "_view_name": "LayoutView",
            "align_content": null,
            "align_items": null,
            "align_self": null,
            "border": null,
            "bottom": null,
            "display": null,
            "flex": null,
            "flex_flow": null,
            "grid_area": null,
            "grid_auto_columns": null,
            "grid_auto_flow": null,
            "grid_auto_rows": null,
            "grid_column": null,
            "grid_gap": null,
            "grid_row": null,
            "grid_template_areas": null,
            "grid_template_columns": null,
            "grid_template_rows": null,
            "height": null,
            "justify_content": null,
            "justify_items": null,
            "left": null,
            "margin": null,
            "max_height": null,
            "max_width": null,
            "min_height": null,
            "min_width": null,
            "object_fit": null,
            "object_position": null,
            "order": null,
            "overflow": null,
            "overflow_x": null,
            "overflow_y": null,
            "padding": null,
            "right": null,
            "top": null,
            "visibility": null,
            "width": null
          }
        },
        "2502f13a0d8546bdad7d0dbf5f91fda2": {
          "model_module": "@jupyter-widgets/controls",
          "model_name": "DescriptionStyleModel",
          "model_module_version": "1.5.0",
          "state": {
            "_model_module": "@jupyter-widgets/controls",
            "_model_module_version": "1.5.0",
            "_model_name": "DescriptionStyleModel",
            "_view_count": null,
            "_view_module": "@jupyter-widgets/base",
            "_view_module_version": "1.2.0",
            "_view_name": "StyleView",
            "description_width": ""
          }
        },
        "97d86d20c1634706b8406cb50e0c3dda": {
          "model_module": "@jupyter-widgets/controls",
          "model_name": "HBoxModel",
          "model_module_version": "1.5.0",
          "state": {
            "_dom_classes": [],
            "_model_module": "@jupyter-widgets/controls",
            "_model_module_version": "1.5.0",
            "_model_name": "HBoxModel",
            "_view_count": null,
            "_view_module": "@jupyter-widgets/controls",
            "_view_module_version": "1.5.0",
            "_view_name": "HBoxView",
            "box_style": "",
            "children": [
              "IPY_MODEL_7b290095ac6e486f9e4ddc687d8341c2",
              "IPY_MODEL_225df8a547744ee4a42b0804d2a1b8cc",
              "IPY_MODEL_ebfb784386e24358a63ceec5c15264d6"
            ],
            "layout": "IPY_MODEL_8af5b0b835fb47b39209a9e083a03f43"
          }
        },
        "7b290095ac6e486f9e4ddc687d8341c2": {
          "model_module": "@jupyter-widgets/controls",
          "model_name": "HTMLModel",
          "model_module_version": "1.5.0",
          "state": {
            "_dom_classes": [],
            "_model_module": "@jupyter-widgets/controls",
            "_model_module_version": "1.5.0",
            "_model_name": "HTMLModel",
            "_view_count": null,
            "_view_module": "@jupyter-widgets/controls",
            "_view_module_version": "1.5.0",
            "_view_name": "HTMLView",
            "description": "",
            "description_tooltip": null,
            "layout": "IPY_MODEL_2149baa8f83f413395d29a0ff3291c01",
            "placeholder": "​",
            "style": "IPY_MODEL_c7394b4a40e3497d817af45a17fc012e",
            "value": "Downloading model.safetensors: 100%"
          }
        },
        "225df8a547744ee4a42b0804d2a1b8cc": {
          "model_module": "@jupyter-widgets/controls",
          "model_name": "FloatProgressModel",
          "model_module_version": "1.5.0",
          "state": {
            "_dom_classes": [],
            "_model_module": "@jupyter-widgets/controls",
            "_model_module_version": "1.5.0",
            "_model_name": "FloatProgressModel",
            "_view_count": null,
            "_view_module": "@jupyter-widgets/controls",
            "_view_module_version": "1.5.0",
            "_view_name": "ProgressView",
            "bar_style": "success",
            "description": "",
            "description_tooltip": null,
            "layout": "IPY_MODEL_46abaea57ee64114adce6ad97b8994c9",
            "max": 267832558,
            "min": 0,
            "orientation": "horizontal",
            "style": "IPY_MODEL_fd8dbf3249d54e538b7a07e7d7d90d98",
            "value": 267832558
          }
        },
        "ebfb784386e24358a63ceec5c15264d6": {
          "model_module": "@jupyter-widgets/controls",
          "model_name": "HTMLModel",
          "model_module_version": "1.5.0",
          "state": {
            "_dom_classes": [],
            "_model_module": "@jupyter-widgets/controls",
            "_model_module_version": "1.5.0",
            "_model_name": "HTMLModel",
            "_view_count": null,
            "_view_module": "@jupyter-widgets/controls",
            "_view_module_version": "1.5.0",
            "_view_name": "HTMLView",
            "description": "",
            "description_tooltip": null,
            "layout": "IPY_MODEL_4d466ecff2584868b65991838a08fa1c",
            "placeholder": "​",
            "style": "IPY_MODEL_a8db697f409e4630b8cb6a1d9945f538",
            "value": " 268M/268M [00:01&lt;00:00, 153MB/s]"
          }
        },
        "8af5b0b835fb47b39209a9e083a03f43": {
          "model_module": "@jupyter-widgets/base",
          "model_name": "LayoutModel",
          "model_module_version": "1.2.0",
          "state": {
            "_model_module": "@jupyter-widgets/base",
            "_model_module_version": "1.2.0",
            "_model_name": "LayoutModel",
            "_view_count": null,
            "_view_module": "@jupyter-widgets/base",
            "_view_module_version": "1.2.0",
            "_view_name": "LayoutView",
            "align_content": null,
            "align_items": null,
            "align_self": null,
            "border": null,
            "bottom": null,
            "display": null,
            "flex": null,
            "flex_flow": null,
            "grid_area": null,
            "grid_auto_columns": null,
            "grid_auto_flow": null,
            "grid_auto_rows": null,
            "grid_column": null,
            "grid_gap": null,
            "grid_row": null,
            "grid_template_areas": null,
            "grid_template_columns": null,
            "grid_template_rows": null,
            "height": null,
            "justify_content": null,
            "justify_items": null,
            "left": null,
            "margin": null,
            "max_height": null,
            "max_width": null,
            "min_height": null,
            "min_width": null,
            "object_fit": null,
            "object_position": null,
            "order": null,
            "overflow": null,
            "overflow_x": null,
            "overflow_y": null,
            "padding": null,
            "right": null,
            "top": null,
            "visibility": null,
            "width": null
          }
        },
        "2149baa8f83f413395d29a0ff3291c01": {
          "model_module": "@jupyter-widgets/base",
          "model_name": "LayoutModel",
          "model_module_version": "1.2.0",
          "state": {
            "_model_module": "@jupyter-widgets/base",
            "_model_module_version": "1.2.0",
            "_model_name": "LayoutModel",
            "_view_count": null,
            "_view_module": "@jupyter-widgets/base",
            "_view_module_version": "1.2.0",
            "_view_name": "LayoutView",
            "align_content": null,
            "align_items": null,
            "align_self": null,
            "border": null,
            "bottom": null,
            "display": null,
            "flex": null,
            "flex_flow": null,
            "grid_area": null,
            "grid_auto_columns": null,
            "grid_auto_flow": null,
            "grid_auto_rows": null,
            "grid_column": null,
            "grid_gap": null,
            "grid_row": null,
            "grid_template_areas": null,
            "grid_template_columns": null,
            "grid_template_rows": null,
            "height": null,
            "justify_content": null,
            "justify_items": null,
            "left": null,
            "margin": null,
            "max_height": null,
            "max_width": null,
            "min_height": null,
            "min_width": null,
            "object_fit": null,
            "object_position": null,
            "order": null,
            "overflow": null,
            "overflow_x": null,
            "overflow_y": null,
            "padding": null,
            "right": null,
            "top": null,
            "visibility": null,
            "width": null
          }
        },
        "c7394b4a40e3497d817af45a17fc012e": {
          "model_module": "@jupyter-widgets/controls",
          "model_name": "DescriptionStyleModel",
          "model_module_version": "1.5.0",
          "state": {
            "_model_module": "@jupyter-widgets/controls",
            "_model_module_version": "1.5.0",
            "_model_name": "DescriptionStyleModel",
            "_view_count": null,
            "_view_module": "@jupyter-widgets/base",
            "_view_module_version": "1.2.0",
            "_view_name": "StyleView",
            "description_width": ""
          }
        },
        "46abaea57ee64114adce6ad97b8994c9": {
          "model_module": "@jupyter-widgets/base",
          "model_name": "LayoutModel",
          "model_module_version": "1.2.0",
          "state": {
            "_model_module": "@jupyter-widgets/base",
            "_model_module_version": "1.2.0",
            "_model_name": "LayoutModel",
            "_view_count": null,
            "_view_module": "@jupyter-widgets/base",
            "_view_module_version": "1.2.0",
            "_view_name": "LayoutView",
            "align_content": null,
            "align_items": null,
            "align_self": null,
            "border": null,
            "bottom": null,
            "display": null,
            "flex": null,
            "flex_flow": null,
            "grid_area": null,
            "grid_auto_columns": null,
            "grid_auto_flow": null,
            "grid_auto_rows": null,
            "grid_column": null,
            "grid_gap": null,
            "grid_row": null,
            "grid_template_areas": null,
            "grid_template_columns": null,
            "grid_template_rows": null,
            "height": null,
            "justify_content": null,
            "justify_items": null,
            "left": null,
            "margin": null,
            "max_height": null,
            "max_width": null,
            "min_height": null,
            "min_width": null,
            "object_fit": null,
            "object_position": null,
            "order": null,
            "overflow": null,
            "overflow_x": null,
            "overflow_y": null,
            "padding": null,
            "right": null,
            "top": null,
            "visibility": null,
            "width": null
          }
        },
        "fd8dbf3249d54e538b7a07e7d7d90d98": {
          "model_module": "@jupyter-widgets/controls",
          "model_name": "ProgressStyleModel",
          "model_module_version": "1.5.0",
          "state": {
            "_model_module": "@jupyter-widgets/controls",
            "_model_module_version": "1.5.0",
            "_model_name": "ProgressStyleModel",
            "_view_count": null,
            "_view_module": "@jupyter-widgets/base",
            "_view_module_version": "1.2.0",
            "_view_name": "StyleView",
            "bar_color": null,
            "description_width": ""
          }
        },
        "4d466ecff2584868b65991838a08fa1c": {
          "model_module": "@jupyter-widgets/base",
          "model_name": "LayoutModel",
          "model_module_version": "1.2.0",
          "state": {
            "_model_module": "@jupyter-widgets/base",
            "_model_module_version": "1.2.0",
            "_model_name": "LayoutModel",
            "_view_count": null,
            "_view_module": "@jupyter-widgets/base",
            "_view_module_version": "1.2.0",
            "_view_name": "LayoutView",
            "align_content": null,
            "align_items": null,
            "align_self": null,
            "border": null,
            "bottom": null,
            "display": null,
            "flex": null,
            "flex_flow": null,
            "grid_area": null,
            "grid_auto_columns": null,
            "grid_auto_flow": null,
            "grid_auto_rows": null,
            "grid_column": null,
            "grid_gap": null,
            "grid_row": null,
            "grid_template_areas": null,
            "grid_template_columns": null,
            "grid_template_rows": null,
            "height": null,
            "justify_content": null,
            "justify_items": null,
            "left": null,
            "margin": null,
            "max_height": null,
            "max_width": null,
            "min_height": null,
            "min_width": null,
            "object_fit": null,
            "object_position": null,
            "order": null,
            "overflow": null,
            "overflow_x": null,
            "overflow_y": null,
            "padding": null,
            "right": null,
            "top": null,
            "visibility": null,
            "width": null
          }
        },
        "a8db697f409e4630b8cb6a1d9945f538": {
          "model_module": "@jupyter-widgets/controls",
          "model_name": "DescriptionStyleModel",
          "model_module_version": "1.5.0",
          "state": {
            "_model_module": "@jupyter-widgets/controls",
            "_model_module_version": "1.5.0",
            "_model_name": "DescriptionStyleModel",
            "_view_count": null,
            "_view_module": "@jupyter-widgets/base",
            "_view_module_version": "1.2.0",
            "_view_name": "StyleView",
            "description_width": ""
          }
        },
        "7242d1f914cd45a08dd5516165bbdeaf": {
          "model_module": "@jupyter-widgets/controls",
          "model_name": "HBoxModel",
          "model_module_version": "1.5.0",
          "state": {
            "_dom_classes": [],
            "_model_module": "@jupyter-widgets/controls",
            "_model_module_version": "1.5.0",
            "_model_name": "HBoxModel",
            "_view_count": null,
            "_view_module": "@jupyter-widgets/controls",
            "_view_module_version": "1.5.0",
            "_view_name": "HBoxView",
            "box_style": "",
            "children": [
              "IPY_MODEL_820a70d4e45b4f78a45c4d219bc71433",
              "IPY_MODEL_aac045d05e7b4745855de1d7a45bfc49",
              "IPY_MODEL_9dd68147ffed433989d5343326fbc5ad"
            ],
            "layout": "IPY_MODEL_2e2a01340c7e481cb85fa7ca23518a9f"
          }
        },
        "820a70d4e45b4f78a45c4d219bc71433": {
          "model_module": "@jupyter-widgets/controls",
          "model_name": "HTMLModel",
          "model_module_version": "1.5.0",
          "state": {
            "_dom_classes": [],
            "_model_module": "@jupyter-widgets/controls",
            "_model_module_version": "1.5.0",
            "_model_name": "HTMLModel",
            "_view_count": null,
            "_view_module": "@jupyter-widgets/controls",
            "_view_module_version": "1.5.0",
            "_view_name": "HTMLView",
            "description": "",
            "description_tooltip": null,
            "layout": "IPY_MODEL_7b70d12b2ac34cd9b111b703b4b3d742",
            "placeholder": "​",
            "style": "IPY_MODEL_6dfa3aa9b6bc4b948eb0577e2f35a97f",
            "value": "Downloading (…)okenizer_config.json: 100%"
          }
        },
        "aac045d05e7b4745855de1d7a45bfc49": {
          "model_module": "@jupyter-widgets/controls",
          "model_name": "FloatProgressModel",
          "model_module_version": "1.5.0",
          "state": {
            "_dom_classes": [],
            "_model_module": "@jupyter-widgets/controls",
            "_model_module_version": "1.5.0",
            "_model_name": "FloatProgressModel",
            "_view_count": null,
            "_view_module": "@jupyter-widgets/controls",
            "_view_module_version": "1.5.0",
            "_view_name": "ProgressView",
            "bar_style": "success",
            "description": "",
            "description_tooltip": null,
            "layout": "IPY_MODEL_f7f5a9f886744fc39071ed42a6eaf7f3",
            "max": 48,
            "min": 0,
            "orientation": "horizontal",
            "style": "IPY_MODEL_6129610722a246e59b813bf1fa445d65",
            "value": 48
          }
        },
        "9dd68147ffed433989d5343326fbc5ad": {
          "model_module": "@jupyter-widgets/controls",
          "model_name": "HTMLModel",
          "model_module_version": "1.5.0",
          "state": {
            "_dom_classes": [],
            "_model_module": "@jupyter-widgets/controls",
            "_model_module_version": "1.5.0",
            "_model_name": "HTMLModel",
            "_view_count": null,
            "_view_module": "@jupyter-widgets/controls",
            "_view_module_version": "1.5.0",
            "_view_name": "HTMLView",
            "description": "",
            "description_tooltip": null,
            "layout": "IPY_MODEL_25b70b21e8be40ff8e044d2ac74f5b51",
            "placeholder": "​",
            "style": "IPY_MODEL_d5e8e7ed85644263ba37f24fb593bf15",
            "value": " 48.0/48.0 [00:00&lt;00:00, 2.12kB/s]"
          }
        },
        "2e2a01340c7e481cb85fa7ca23518a9f": {
          "model_module": "@jupyter-widgets/base",
          "model_name": "LayoutModel",
          "model_module_version": "1.2.0",
          "state": {
            "_model_module": "@jupyter-widgets/base",
            "_model_module_version": "1.2.0",
            "_model_name": "LayoutModel",
            "_view_count": null,
            "_view_module": "@jupyter-widgets/base",
            "_view_module_version": "1.2.0",
            "_view_name": "LayoutView",
            "align_content": null,
            "align_items": null,
            "align_self": null,
            "border": null,
            "bottom": null,
            "display": null,
            "flex": null,
            "flex_flow": null,
            "grid_area": null,
            "grid_auto_columns": null,
            "grid_auto_flow": null,
            "grid_auto_rows": null,
            "grid_column": null,
            "grid_gap": null,
            "grid_row": null,
            "grid_template_areas": null,
            "grid_template_columns": null,
            "grid_template_rows": null,
            "height": null,
            "justify_content": null,
            "justify_items": null,
            "left": null,
            "margin": null,
            "max_height": null,
            "max_width": null,
            "min_height": null,
            "min_width": null,
            "object_fit": null,
            "object_position": null,
            "order": null,
            "overflow": null,
            "overflow_x": null,
            "overflow_y": null,
            "padding": null,
            "right": null,
            "top": null,
            "visibility": null,
            "width": null
          }
        },
        "7b70d12b2ac34cd9b111b703b4b3d742": {
          "model_module": "@jupyter-widgets/base",
          "model_name": "LayoutModel",
          "model_module_version": "1.2.0",
          "state": {
            "_model_module": "@jupyter-widgets/base",
            "_model_module_version": "1.2.0",
            "_model_name": "LayoutModel",
            "_view_count": null,
            "_view_module": "@jupyter-widgets/base",
            "_view_module_version": "1.2.0",
            "_view_name": "LayoutView",
            "align_content": null,
            "align_items": null,
            "align_self": null,
            "border": null,
            "bottom": null,
            "display": null,
            "flex": null,
            "flex_flow": null,
            "grid_area": null,
            "grid_auto_columns": null,
            "grid_auto_flow": null,
            "grid_auto_rows": null,
            "grid_column": null,
            "grid_gap": null,
            "grid_row": null,
            "grid_template_areas": null,
            "grid_template_columns": null,
            "grid_template_rows": null,
            "height": null,
            "justify_content": null,
            "justify_items": null,
            "left": null,
            "margin": null,
            "max_height": null,
            "max_width": null,
            "min_height": null,
            "min_width": null,
            "object_fit": null,
            "object_position": null,
            "order": null,
            "overflow": null,
            "overflow_x": null,
            "overflow_y": null,
            "padding": null,
            "right": null,
            "top": null,
            "visibility": null,
            "width": null
          }
        },
        "6dfa3aa9b6bc4b948eb0577e2f35a97f": {
          "model_module": "@jupyter-widgets/controls",
          "model_name": "DescriptionStyleModel",
          "model_module_version": "1.5.0",
          "state": {
            "_model_module": "@jupyter-widgets/controls",
            "_model_module_version": "1.5.0",
            "_model_name": "DescriptionStyleModel",
            "_view_count": null,
            "_view_module": "@jupyter-widgets/base",
            "_view_module_version": "1.2.0",
            "_view_name": "StyleView",
            "description_width": ""
          }
        },
        "f7f5a9f886744fc39071ed42a6eaf7f3": {
          "model_module": "@jupyter-widgets/base",
          "model_name": "LayoutModel",
          "model_module_version": "1.2.0",
          "state": {
            "_model_module": "@jupyter-widgets/base",
            "_model_module_version": "1.2.0",
            "_model_name": "LayoutModel",
            "_view_count": null,
            "_view_module": "@jupyter-widgets/base",
            "_view_module_version": "1.2.0",
            "_view_name": "LayoutView",
            "align_content": null,
            "align_items": null,
            "align_self": null,
            "border": null,
            "bottom": null,
            "display": null,
            "flex": null,
            "flex_flow": null,
            "grid_area": null,
            "grid_auto_columns": null,
            "grid_auto_flow": null,
            "grid_auto_rows": null,
            "grid_column": null,
            "grid_gap": null,
            "grid_row": null,
            "grid_template_areas": null,
            "grid_template_columns": null,
            "grid_template_rows": null,
            "height": null,
            "justify_content": null,
            "justify_items": null,
            "left": null,
            "margin": null,
            "max_height": null,
            "max_width": null,
            "min_height": null,
            "min_width": null,
            "object_fit": null,
            "object_position": null,
            "order": null,
            "overflow": null,
            "overflow_x": null,
            "overflow_y": null,
            "padding": null,
            "right": null,
            "top": null,
            "visibility": null,
            "width": null
          }
        },
        "6129610722a246e59b813bf1fa445d65": {
          "model_module": "@jupyter-widgets/controls",
          "model_name": "ProgressStyleModel",
          "model_module_version": "1.5.0",
          "state": {
            "_model_module": "@jupyter-widgets/controls",
            "_model_module_version": "1.5.0",
            "_model_name": "ProgressStyleModel",
            "_view_count": null,
            "_view_module": "@jupyter-widgets/base",
            "_view_module_version": "1.2.0",
            "_view_name": "StyleView",
            "bar_color": null,
            "description_width": ""
          }
        },
        "25b70b21e8be40ff8e044d2ac74f5b51": {
          "model_module": "@jupyter-widgets/base",
          "model_name": "LayoutModel",
          "model_module_version": "1.2.0",
          "state": {
            "_model_module": "@jupyter-widgets/base",
            "_model_module_version": "1.2.0",
            "_model_name": "LayoutModel",
            "_view_count": null,
            "_view_module": "@jupyter-widgets/base",
            "_view_module_version": "1.2.0",
            "_view_name": "LayoutView",
            "align_content": null,
            "align_items": null,
            "align_self": null,
            "border": null,
            "bottom": null,
            "display": null,
            "flex": null,
            "flex_flow": null,
            "grid_area": null,
            "grid_auto_columns": null,
            "grid_auto_flow": null,
            "grid_auto_rows": null,
            "grid_column": null,
            "grid_gap": null,
            "grid_row": null,
            "grid_template_areas": null,
            "grid_template_columns": null,
            "grid_template_rows": null,
            "height": null,
            "justify_content": null,
            "justify_items": null,
            "left": null,
            "margin": null,
            "max_height": null,
            "max_width": null,
            "min_height": null,
            "min_width": null,
            "object_fit": null,
            "object_position": null,
            "order": null,
            "overflow": null,
            "overflow_x": null,
            "overflow_y": null,
            "padding": null,
            "right": null,
            "top": null,
            "visibility": null,
            "width": null
          }
        },
        "d5e8e7ed85644263ba37f24fb593bf15": {
          "model_module": "@jupyter-widgets/controls",
          "model_name": "DescriptionStyleModel",
          "model_module_version": "1.5.0",
          "state": {
            "_model_module": "@jupyter-widgets/controls",
            "_model_module_version": "1.5.0",
            "_model_name": "DescriptionStyleModel",
            "_view_count": null,
            "_view_module": "@jupyter-widgets/base",
            "_view_module_version": "1.2.0",
            "_view_name": "StyleView",
            "description_width": ""
          }
        },
        "7335307449a54fbe8101abea2a794535": {
          "model_module": "@jupyter-widgets/controls",
          "model_name": "HBoxModel",
          "model_module_version": "1.5.0",
          "state": {
            "_dom_classes": [],
            "_model_module": "@jupyter-widgets/controls",
            "_model_module_version": "1.5.0",
            "_model_name": "HBoxModel",
            "_view_count": null,
            "_view_module": "@jupyter-widgets/controls",
            "_view_module_version": "1.5.0",
            "_view_name": "HBoxView",
            "box_style": "",
            "children": [
              "IPY_MODEL_1d67adabf9824c1481ba588b368377ee",
              "IPY_MODEL_d76f72db55374d918dd919bd2f1a51dc",
              "IPY_MODEL_e3714488191943fc81ca4d5957661092"
            ],
            "layout": "IPY_MODEL_e2e22d253c1246f8893c45318d9dbcc2"
          }
        },
        "1d67adabf9824c1481ba588b368377ee": {
          "model_module": "@jupyter-widgets/controls",
          "model_name": "HTMLModel",
          "model_module_version": "1.5.0",
          "state": {
            "_dom_classes": [],
            "_model_module": "@jupyter-widgets/controls",
            "_model_module_version": "1.5.0",
            "_model_name": "HTMLModel",
            "_view_count": null,
            "_view_module": "@jupyter-widgets/controls",
            "_view_module_version": "1.5.0",
            "_view_name": "HTMLView",
            "description": "",
            "description_tooltip": null,
            "layout": "IPY_MODEL_6ab7f311e3ad446a8f153413357a0f13",
            "placeholder": "​",
            "style": "IPY_MODEL_6cd4bcf52d7c40f7b090f39c1c964282",
            "value": "Downloading (…)solve/main/vocab.txt: 100%"
          }
        },
        "d76f72db55374d918dd919bd2f1a51dc": {
          "model_module": "@jupyter-widgets/controls",
          "model_name": "FloatProgressModel",
          "model_module_version": "1.5.0",
          "state": {
            "_dom_classes": [],
            "_model_module": "@jupyter-widgets/controls",
            "_model_module_version": "1.5.0",
            "_model_name": "FloatProgressModel",
            "_view_count": null,
            "_view_module": "@jupyter-widgets/controls",
            "_view_module_version": "1.5.0",
            "_view_name": "ProgressView",
            "bar_style": "success",
            "description": "",
            "description_tooltip": null,
            "layout": "IPY_MODEL_b0ba5a78ceb8416ea634ad73c32bed83",
            "max": 231508,
            "min": 0,
            "orientation": "horizontal",
            "style": "IPY_MODEL_ab25c8cb9d3a46109d4f73d5d6878e82",
            "value": 231508
          }
        },
        "e3714488191943fc81ca4d5957661092": {
          "model_module": "@jupyter-widgets/controls",
          "model_name": "HTMLModel",
          "model_module_version": "1.5.0",
          "state": {
            "_dom_classes": [],
            "_model_module": "@jupyter-widgets/controls",
            "_model_module_version": "1.5.0",
            "_model_name": "HTMLModel",
            "_view_count": null,
            "_view_module": "@jupyter-widgets/controls",
            "_view_module_version": "1.5.0",
            "_view_name": "HTMLView",
            "description": "",
            "description_tooltip": null,
            "layout": "IPY_MODEL_5f25e9dc6f654b83a4ef88222a8d96c9",
            "placeholder": "​",
            "style": "IPY_MODEL_1a82fe0152604e008926ddb744131510",
            "value": " 232k/232k [00:00&lt;00:00, 3.75MB/s]"
          }
        },
        "e2e22d253c1246f8893c45318d9dbcc2": {
          "model_module": "@jupyter-widgets/base",
          "model_name": "LayoutModel",
          "model_module_version": "1.2.0",
          "state": {
            "_model_module": "@jupyter-widgets/base",
            "_model_module_version": "1.2.0",
            "_model_name": "LayoutModel",
            "_view_count": null,
            "_view_module": "@jupyter-widgets/base",
            "_view_module_version": "1.2.0",
            "_view_name": "LayoutView",
            "align_content": null,
            "align_items": null,
            "align_self": null,
            "border": null,
            "bottom": null,
            "display": null,
            "flex": null,
            "flex_flow": null,
            "grid_area": null,
            "grid_auto_columns": null,
            "grid_auto_flow": null,
            "grid_auto_rows": null,
            "grid_column": null,
            "grid_gap": null,
            "grid_row": null,
            "grid_template_areas": null,
            "grid_template_columns": null,
            "grid_template_rows": null,
            "height": null,
            "justify_content": null,
            "justify_items": null,
            "left": null,
            "margin": null,
            "max_height": null,
            "max_width": null,
            "min_height": null,
            "min_width": null,
            "object_fit": null,
            "object_position": null,
            "order": null,
            "overflow": null,
            "overflow_x": null,
            "overflow_y": null,
            "padding": null,
            "right": null,
            "top": null,
            "visibility": null,
            "width": null
          }
        },
        "6ab7f311e3ad446a8f153413357a0f13": {
          "model_module": "@jupyter-widgets/base",
          "model_name": "LayoutModel",
          "model_module_version": "1.2.0",
          "state": {
            "_model_module": "@jupyter-widgets/base",
            "_model_module_version": "1.2.0",
            "_model_name": "LayoutModel",
            "_view_count": null,
            "_view_module": "@jupyter-widgets/base",
            "_view_module_version": "1.2.0",
            "_view_name": "LayoutView",
            "align_content": null,
            "align_items": null,
            "align_self": null,
            "border": null,
            "bottom": null,
            "display": null,
            "flex": null,
            "flex_flow": null,
            "grid_area": null,
            "grid_auto_columns": null,
            "grid_auto_flow": null,
            "grid_auto_rows": null,
            "grid_column": null,
            "grid_gap": null,
            "grid_row": null,
            "grid_template_areas": null,
            "grid_template_columns": null,
            "grid_template_rows": null,
            "height": null,
            "justify_content": null,
            "justify_items": null,
            "left": null,
            "margin": null,
            "max_height": null,
            "max_width": null,
            "min_height": null,
            "min_width": null,
            "object_fit": null,
            "object_position": null,
            "order": null,
            "overflow": null,
            "overflow_x": null,
            "overflow_y": null,
            "padding": null,
            "right": null,
            "top": null,
            "visibility": null,
            "width": null
          }
        },
        "6cd4bcf52d7c40f7b090f39c1c964282": {
          "model_module": "@jupyter-widgets/controls",
          "model_name": "DescriptionStyleModel",
          "model_module_version": "1.5.0",
          "state": {
            "_model_module": "@jupyter-widgets/controls",
            "_model_module_version": "1.5.0",
            "_model_name": "DescriptionStyleModel",
            "_view_count": null,
            "_view_module": "@jupyter-widgets/base",
            "_view_module_version": "1.2.0",
            "_view_name": "StyleView",
            "description_width": ""
          }
        },
        "b0ba5a78ceb8416ea634ad73c32bed83": {
          "model_module": "@jupyter-widgets/base",
          "model_name": "LayoutModel",
          "model_module_version": "1.2.0",
          "state": {
            "_model_module": "@jupyter-widgets/base",
            "_model_module_version": "1.2.0",
            "_model_name": "LayoutModel",
            "_view_count": null,
            "_view_module": "@jupyter-widgets/base",
            "_view_module_version": "1.2.0",
            "_view_name": "LayoutView",
            "align_content": null,
            "align_items": null,
            "align_self": null,
            "border": null,
            "bottom": null,
            "display": null,
            "flex": null,
            "flex_flow": null,
            "grid_area": null,
            "grid_auto_columns": null,
            "grid_auto_flow": null,
            "grid_auto_rows": null,
            "grid_column": null,
            "grid_gap": null,
            "grid_row": null,
            "grid_template_areas": null,
            "grid_template_columns": null,
            "grid_template_rows": null,
            "height": null,
            "justify_content": null,
            "justify_items": null,
            "left": null,
            "margin": null,
            "max_height": null,
            "max_width": null,
            "min_height": null,
            "min_width": null,
            "object_fit": null,
            "object_position": null,
            "order": null,
            "overflow": null,
            "overflow_x": null,
            "overflow_y": null,
            "padding": null,
            "right": null,
            "top": null,
            "visibility": null,
            "width": null
          }
        },
        "ab25c8cb9d3a46109d4f73d5d6878e82": {
          "model_module": "@jupyter-widgets/controls",
          "model_name": "ProgressStyleModel",
          "model_module_version": "1.5.0",
          "state": {
            "_model_module": "@jupyter-widgets/controls",
            "_model_module_version": "1.5.0",
            "_model_name": "ProgressStyleModel",
            "_view_count": null,
            "_view_module": "@jupyter-widgets/base",
            "_view_module_version": "1.2.0",
            "_view_name": "StyleView",
            "bar_color": null,
            "description_width": ""
          }
        },
        "5f25e9dc6f654b83a4ef88222a8d96c9": {
          "model_module": "@jupyter-widgets/base",
          "model_name": "LayoutModel",
          "model_module_version": "1.2.0",
          "state": {
            "_model_module": "@jupyter-widgets/base",
            "_model_module_version": "1.2.0",
            "_model_name": "LayoutModel",
            "_view_count": null,
            "_view_module": "@jupyter-widgets/base",
            "_view_module_version": "1.2.0",
            "_view_name": "LayoutView",
            "align_content": null,
            "align_items": null,
            "align_self": null,
            "border": null,
            "bottom": null,
            "display": null,
            "flex": null,
            "flex_flow": null,
            "grid_area": null,
            "grid_auto_columns": null,
            "grid_auto_flow": null,
            "grid_auto_rows": null,
            "grid_column": null,
            "grid_gap": null,
            "grid_row": null,
            "grid_template_areas": null,
            "grid_template_columns": null,
            "grid_template_rows": null,
            "height": null,
            "justify_content": null,
            "justify_items": null,
            "left": null,
            "margin": null,
            "max_height": null,
            "max_width": null,
            "min_height": null,
            "min_width": null,
            "object_fit": null,
            "object_position": null,
            "order": null,
            "overflow": null,
            "overflow_x": null,
            "overflow_y": null,
            "padding": null,
            "right": null,
            "top": null,
            "visibility": null,
            "width": null
          }
        },
        "1a82fe0152604e008926ddb744131510": {
          "model_module": "@jupyter-widgets/controls",
          "model_name": "DescriptionStyleModel",
          "model_module_version": "1.5.0",
          "state": {
            "_model_module": "@jupyter-widgets/controls",
            "_model_module_version": "1.5.0",
            "_model_name": "DescriptionStyleModel",
            "_view_count": null,
            "_view_module": "@jupyter-widgets/base",
            "_view_module_version": "1.2.0",
            "_view_name": "StyleView",
            "description_width": ""
          }
        }
      }
    }
  },
  "nbformat": 4,
  "nbformat_minor": 0
}